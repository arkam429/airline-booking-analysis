{
  "metadata": {
    "kernelspec": {
      "language": "python",
      "display_name": "Python 3",
      "name": "python3"
    },
    "language_info": {
      "name": "python",
      "version": "3.11.13",
      "mimetype": "text/x-python",
      "codemirror_mode": {
        "name": "ipython",
        "version": 3
      },
      "pygments_lexer": "ipython3",
      "nbconvert_exporter": "python",
      "file_extension": ".py"
    },
    "kaggle": {
      "accelerator": "none",
      "dataSources": [
        {
          "sourceId": 8177167,
          "sourceType": "datasetVersion",
          "datasetId": 4840501
        }
      ],
      "dockerImageVersionId": 31089,
      "isInternetEnabled": true,
      "language": "python",
      "sourceType": "notebook",
      "isGpuEnabled": false
    },
    "colab": {
      "provenance": []
    }
  },
  "nbformat_minor": 0,
  "nbformat": 4,
  "cells": [
    {
      "cell_type": "markdown",
      "source": [
        "# Introduction\n",
        " ***Hello and welcome to my data analysis workshop!***\n",
        "In this notebook, I’ll be working with an airline bookings dataset to explore trends, customer preferences, and demand patterns. I'll also visualize the insights using various charts to help uncover meaningful business insights"
      ],
      "metadata": {
        "id": "AhKouk6o6LOP"
      }
    },
    {
      "cell_type": "markdown",
      "source": [
        "![Airplane Image](https://images.theconversation.com/files/578175/original/file-20240227-28-cejldv.jpg?ixlib=rb-4.1.0&rect=0%2C0%2C7668%2C3828&q=45&auto=format&w=1356&h=668&fit=crop)\n",
        "\n",
        "\n"
      ],
      "metadata": {
        "id": "dfn9ypUX6LOR"
      }
    },
    {
      "cell_type": "markdown",
      "source": [
        "# Setting up the enviroment\n",
        "**To begin, we’ll set up the environment and import the dataset for analysis.**"
      ],
      "metadata": {
        "id": "pSsTiv_W6LOS"
      }
    },
    {
      "cell_type": "code",
      "source": [
        "# setting up the enviromnet\n",
        "import pandas as pd\n",
        "import numpy as np\n",
        "import seaborn as sns\n",
        "import matplotlib.pyplot as plt\n",
        "\n",
        "#load csv file....\n",
        "customer_booking_data = pd.read_csv(\"customer_booking.csv\", encoding='windows-1252')\n",
        "\n",
        "#view first few lines of the dataset.....\n",
        "customer_booking_data.head()\n"
      ],
      "metadata": {
        "trusted": true,
        "execution": {
          "iopub.status.busy": "2025-07-28T11:39:38.239681Z",
          "iopub.execute_input": "2025-07-28T11:39:38.240440Z",
          "iopub.status.idle": "2025-07-28T11:39:41.904265Z",
          "shell.execute_reply.started": "2025-07-28T11:39:38.240408Z",
          "shell.execute_reply": "2025-07-28T11:39:41.903339Z"
        },
        "colab": {
          "base_uri": "https://localhost:8080/",
          "height": 226
        },
        "id": "UUHAyCj_6LOT",
        "outputId": "de808b7e-9bf7-4584-df5b-7c84804c485f"
      },
      "outputs": [
        {
          "output_type": "execute_result",
          "data": {
            "text/plain": [
              "   num_passengers sales_channel  trip_type  purchase_lead  length_of_stay  \\\n",
              "0               2      Internet  RoundTrip            262              19   \n",
              "1               1      Internet  RoundTrip            112              20   \n",
              "2               2      Internet  RoundTrip            243              22   \n",
              "3               1      Internet  RoundTrip             96              31   \n",
              "4               2      Internet  RoundTrip             68              22   \n",
              "\n",
              "   flight_hour flight_day   route booking_origin  wants_extra_baggage  \\\n",
              "0            7        Sat  AKLDEL    New Zealand                    1   \n",
              "1            3        Sat  AKLDEL    New Zealand                    0   \n",
              "2           17        Wed  AKLDEL          India                    1   \n",
              "3            4        Sat  AKLDEL    New Zealand                    0   \n",
              "4           15        Wed  AKLDEL          India                    1   \n",
              "\n",
              "   wants_preferred_seat  wants_in_flight_meals  flight_duration  \\\n",
              "0                     0                      0             5.52   \n",
              "1                     0                      0             5.52   \n",
              "2                     1                      0             5.52   \n",
              "3                     0                      1             5.52   \n",
              "4                     0                      1             5.52   \n",
              "\n",
              "   booking_complete  \n",
              "0                 0  \n",
              "1                 0  \n",
              "2                 0  \n",
              "3                 0  \n",
              "4                 0  "
            ],
            "text/html": [
              "\n",
              "  <div id=\"df-1dbf094a-79cc-4a12-8876-a9dddd969012\" class=\"colab-df-container\">\n",
              "    <div>\n",
              "<style scoped>\n",
              "    .dataframe tbody tr th:only-of-type {\n",
              "        vertical-align: middle;\n",
              "    }\n",
              "\n",
              "    .dataframe tbody tr th {\n",
              "        vertical-align: top;\n",
              "    }\n",
              "\n",
              "    .dataframe thead th {\n",
              "        text-align: right;\n",
              "    }\n",
              "</style>\n",
              "<table border=\"1\" class=\"dataframe\">\n",
              "  <thead>\n",
              "    <tr style=\"text-align: right;\">\n",
              "      <th></th>\n",
              "      <th>num_passengers</th>\n",
              "      <th>sales_channel</th>\n",
              "      <th>trip_type</th>\n",
              "      <th>purchase_lead</th>\n",
              "      <th>length_of_stay</th>\n",
              "      <th>flight_hour</th>\n",
              "      <th>flight_day</th>\n",
              "      <th>route</th>\n",
              "      <th>booking_origin</th>\n",
              "      <th>wants_extra_baggage</th>\n",
              "      <th>wants_preferred_seat</th>\n",
              "      <th>wants_in_flight_meals</th>\n",
              "      <th>flight_duration</th>\n",
              "      <th>booking_complete</th>\n",
              "    </tr>\n",
              "  </thead>\n",
              "  <tbody>\n",
              "    <tr>\n",
              "      <th>0</th>\n",
              "      <td>2</td>\n",
              "      <td>Internet</td>\n",
              "      <td>RoundTrip</td>\n",
              "      <td>262</td>\n",
              "      <td>19</td>\n",
              "      <td>7</td>\n",
              "      <td>Sat</td>\n",
              "      <td>AKLDEL</td>\n",
              "      <td>New Zealand</td>\n",
              "      <td>1</td>\n",
              "      <td>0</td>\n",
              "      <td>0</td>\n",
              "      <td>5.52</td>\n",
              "      <td>0</td>\n",
              "    </tr>\n",
              "    <tr>\n",
              "      <th>1</th>\n",
              "      <td>1</td>\n",
              "      <td>Internet</td>\n",
              "      <td>RoundTrip</td>\n",
              "      <td>112</td>\n",
              "      <td>20</td>\n",
              "      <td>3</td>\n",
              "      <td>Sat</td>\n",
              "      <td>AKLDEL</td>\n",
              "      <td>New Zealand</td>\n",
              "      <td>0</td>\n",
              "      <td>0</td>\n",
              "      <td>0</td>\n",
              "      <td>5.52</td>\n",
              "      <td>0</td>\n",
              "    </tr>\n",
              "    <tr>\n",
              "      <th>2</th>\n",
              "      <td>2</td>\n",
              "      <td>Internet</td>\n",
              "      <td>RoundTrip</td>\n",
              "      <td>243</td>\n",
              "      <td>22</td>\n",
              "      <td>17</td>\n",
              "      <td>Wed</td>\n",
              "      <td>AKLDEL</td>\n",
              "      <td>India</td>\n",
              "      <td>1</td>\n",
              "      <td>1</td>\n",
              "      <td>0</td>\n",
              "      <td>5.52</td>\n",
              "      <td>0</td>\n",
              "    </tr>\n",
              "    <tr>\n",
              "      <th>3</th>\n",
              "      <td>1</td>\n",
              "      <td>Internet</td>\n",
              "      <td>RoundTrip</td>\n",
              "      <td>96</td>\n",
              "      <td>31</td>\n",
              "      <td>4</td>\n",
              "      <td>Sat</td>\n",
              "      <td>AKLDEL</td>\n",
              "      <td>New Zealand</td>\n",
              "      <td>0</td>\n",
              "      <td>0</td>\n",
              "      <td>1</td>\n",
              "      <td>5.52</td>\n",
              "      <td>0</td>\n",
              "    </tr>\n",
              "    <tr>\n",
              "      <th>4</th>\n",
              "      <td>2</td>\n",
              "      <td>Internet</td>\n",
              "      <td>RoundTrip</td>\n",
              "      <td>68</td>\n",
              "      <td>22</td>\n",
              "      <td>15</td>\n",
              "      <td>Wed</td>\n",
              "      <td>AKLDEL</td>\n",
              "      <td>India</td>\n",
              "      <td>1</td>\n",
              "      <td>0</td>\n",
              "      <td>1</td>\n",
              "      <td>5.52</td>\n",
              "      <td>0</td>\n",
              "    </tr>\n",
              "  </tbody>\n",
              "</table>\n",
              "</div>\n",
              "    <div class=\"colab-df-buttons\">\n",
              "\n",
              "  <div class=\"colab-df-container\">\n",
              "    <button class=\"colab-df-convert\" onclick=\"convertToInteractive('df-1dbf094a-79cc-4a12-8876-a9dddd969012')\"\n",
              "            title=\"Convert this dataframe to an interactive table.\"\n",
              "            style=\"display:none;\">\n",
              "\n",
              "  <svg xmlns=\"http://www.w3.org/2000/svg\" height=\"24px\" viewBox=\"0 -960 960 960\">\n",
              "    <path d=\"M120-120v-720h720v720H120Zm60-500h600v-160H180v160Zm220 220h160v-160H400v160Zm0 220h160v-160H400v160ZM180-400h160v-160H180v160Zm440 0h160v-160H620v160ZM180-180h160v-160H180v160Zm440 0h160v-160H620v160Z\"/>\n",
              "  </svg>\n",
              "    </button>\n",
              "\n",
              "  <style>\n",
              "    .colab-df-container {\n",
              "      display:flex;\n",
              "      gap: 12px;\n",
              "    }\n",
              "\n",
              "    .colab-df-convert {\n",
              "      background-color: #E8F0FE;\n",
              "      border: none;\n",
              "      border-radius: 50%;\n",
              "      cursor: pointer;\n",
              "      display: none;\n",
              "      fill: #1967D2;\n",
              "      height: 32px;\n",
              "      padding: 0 0 0 0;\n",
              "      width: 32px;\n",
              "    }\n",
              "\n",
              "    .colab-df-convert:hover {\n",
              "      background-color: #E2EBFA;\n",
              "      box-shadow: 0px 1px 2px rgba(60, 64, 67, 0.3), 0px 1px 3px 1px rgba(60, 64, 67, 0.15);\n",
              "      fill: #174EA6;\n",
              "    }\n",
              "\n",
              "    .colab-df-buttons div {\n",
              "      margin-bottom: 4px;\n",
              "    }\n",
              "\n",
              "    [theme=dark] .colab-df-convert {\n",
              "      background-color: #3B4455;\n",
              "      fill: #D2E3FC;\n",
              "    }\n",
              "\n",
              "    [theme=dark] .colab-df-convert:hover {\n",
              "      background-color: #434B5C;\n",
              "      box-shadow: 0px 1px 3px 1px rgba(0, 0, 0, 0.15);\n",
              "      filter: drop-shadow(0px 1px 2px rgba(0, 0, 0, 0.3));\n",
              "      fill: #FFFFFF;\n",
              "    }\n",
              "  </style>\n",
              "\n",
              "    <script>\n",
              "      const buttonEl =\n",
              "        document.querySelector('#df-1dbf094a-79cc-4a12-8876-a9dddd969012 button.colab-df-convert');\n",
              "      buttonEl.style.display =\n",
              "        google.colab.kernel.accessAllowed ? 'block' : 'none';\n",
              "\n",
              "      async function convertToInteractive(key) {\n",
              "        const element = document.querySelector('#df-1dbf094a-79cc-4a12-8876-a9dddd969012');\n",
              "        const dataTable =\n",
              "          await google.colab.kernel.invokeFunction('convertToInteractive',\n",
              "                                                    [key], {});\n",
              "        if (!dataTable) return;\n",
              "\n",
              "        const docLinkHtml = 'Like what you see? Visit the ' +\n",
              "          '<a target=\"_blank\" href=https://colab.research.google.com/notebooks/data_table.ipynb>data table notebook</a>'\n",
              "          + ' to learn more about interactive tables.';\n",
              "        element.innerHTML = '';\n",
              "        dataTable['output_type'] = 'display_data';\n",
              "        await google.colab.output.renderOutput(dataTable, element);\n",
              "        const docLink = document.createElement('div');\n",
              "        docLink.innerHTML = docLinkHtml;\n",
              "        element.appendChild(docLink);\n",
              "      }\n",
              "    </script>\n",
              "  </div>\n",
              "\n",
              "\n",
              "    <div id=\"df-6bc790bb-a000-4340-a0ed-c6179f38b660\">\n",
              "      <button class=\"colab-df-quickchart\" onclick=\"quickchart('df-6bc790bb-a000-4340-a0ed-c6179f38b660')\"\n",
              "                title=\"Suggest charts\"\n",
              "                style=\"display:none;\">\n",
              "\n",
              "<svg xmlns=\"http://www.w3.org/2000/svg\" height=\"24px\"viewBox=\"0 0 24 24\"\n",
              "     width=\"24px\">\n",
              "    <g>\n",
              "        <path d=\"M19 3H5c-1.1 0-2 .9-2 2v14c0 1.1.9 2 2 2h14c1.1 0 2-.9 2-2V5c0-1.1-.9-2-2-2zM9 17H7v-7h2v7zm4 0h-2V7h2v10zm4 0h-2v-4h2v4z\"/>\n",
              "    </g>\n",
              "</svg>\n",
              "      </button>\n",
              "\n",
              "<style>\n",
              "  .colab-df-quickchart {\n",
              "      --bg-color: #E8F0FE;\n",
              "      --fill-color: #1967D2;\n",
              "      --hover-bg-color: #E2EBFA;\n",
              "      --hover-fill-color: #174EA6;\n",
              "      --disabled-fill-color: #AAA;\n",
              "      --disabled-bg-color: #DDD;\n",
              "  }\n",
              "\n",
              "  [theme=dark] .colab-df-quickchart {\n",
              "      --bg-color: #3B4455;\n",
              "      --fill-color: #D2E3FC;\n",
              "      --hover-bg-color: #434B5C;\n",
              "      --hover-fill-color: #FFFFFF;\n",
              "      --disabled-bg-color: #3B4455;\n",
              "      --disabled-fill-color: #666;\n",
              "  }\n",
              "\n",
              "  .colab-df-quickchart {\n",
              "    background-color: var(--bg-color);\n",
              "    border: none;\n",
              "    border-radius: 50%;\n",
              "    cursor: pointer;\n",
              "    display: none;\n",
              "    fill: var(--fill-color);\n",
              "    height: 32px;\n",
              "    padding: 0;\n",
              "    width: 32px;\n",
              "  }\n",
              "\n",
              "  .colab-df-quickchart:hover {\n",
              "    background-color: var(--hover-bg-color);\n",
              "    box-shadow: 0 1px 2px rgba(60, 64, 67, 0.3), 0 1px 3px 1px rgba(60, 64, 67, 0.15);\n",
              "    fill: var(--button-hover-fill-color);\n",
              "  }\n",
              "\n",
              "  .colab-df-quickchart-complete:disabled,\n",
              "  .colab-df-quickchart-complete:disabled:hover {\n",
              "    background-color: var(--disabled-bg-color);\n",
              "    fill: var(--disabled-fill-color);\n",
              "    box-shadow: none;\n",
              "  }\n",
              "\n",
              "  .colab-df-spinner {\n",
              "    border: 2px solid var(--fill-color);\n",
              "    border-color: transparent;\n",
              "    border-bottom-color: var(--fill-color);\n",
              "    animation:\n",
              "      spin 1s steps(1) infinite;\n",
              "  }\n",
              "\n",
              "  @keyframes spin {\n",
              "    0% {\n",
              "      border-color: transparent;\n",
              "      border-bottom-color: var(--fill-color);\n",
              "      border-left-color: var(--fill-color);\n",
              "    }\n",
              "    20% {\n",
              "      border-color: transparent;\n",
              "      border-left-color: var(--fill-color);\n",
              "      border-top-color: var(--fill-color);\n",
              "    }\n",
              "    30% {\n",
              "      border-color: transparent;\n",
              "      border-left-color: var(--fill-color);\n",
              "      border-top-color: var(--fill-color);\n",
              "      border-right-color: var(--fill-color);\n",
              "    }\n",
              "    40% {\n",
              "      border-color: transparent;\n",
              "      border-right-color: var(--fill-color);\n",
              "      border-top-color: var(--fill-color);\n",
              "    }\n",
              "    60% {\n",
              "      border-color: transparent;\n",
              "      border-right-color: var(--fill-color);\n",
              "    }\n",
              "    80% {\n",
              "      border-color: transparent;\n",
              "      border-right-color: var(--fill-color);\n",
              "      border-bottom-color: var(--fill-color);\n",
              "    }\n",
              "    90% {\n",
              "      border-color: transparent;\n",
              "      border-bottom-color: var(--fill-color);\n",
              "    }\n",
              "  }\n",
              "</style>\n",
              "\n",
              "      <script>\n",
              "        async function quickchart(key) {\n",
              "          const quickchartButtonEl =\n",
              "            document.querySelector('#' + key + ' button');\n",
              "          quickchartButtonEl.disabled = true;  // To prevent multiple clicks.\n",
              "          quickchartButtonEl.classList.add('colab-df-spinner');\n",
              "          try {\n",
              "            const charts = await google.colab.kernel.invokeFunction(\n",
              "                'suggestCharts', [key], {});\n",
              "          } catch (error) {\n",
              "            console.error('Error during call to suggestCharts:', error);\n",
              "          }\n",
              "          quickchartButtonEl.classList.remove('colab-df-spinner');\n",
              "          quickchartButtonEl.classList.add('colab-df-quickchart-complete');\n",
              "        }\n",
              "        (() => {\n",
              "          let quickchartButtonEl =\n",
              "            document.querySelector('#df-6bc790bb-a000-4340-a0ed-c6179f38b660 button');\n",
              "          quickchartButtonEl.style.display =\n",
              "            google.colab.kernel.accessAllowed ? 'block' : 'none';\n",
              "        })();\n",
              "      </script>\n",
              "    </div>\n",
              "\n",
              "    </div>\n",
              "  </div>\n"
            ],
            "application/vnd.google.colaboratory.intrinsic+json": {
              "type": "dataframe",
              "variable_name": "customer_booking_data",
              "summary": "{\n  \"name\": \"customer_booking_data\",\n  \"rows\": 50000,\n  \"fields\": [\n    {\n      \"column\": \"num_passengers\",\n      \"properties\": {\n        \"dtype\": \"number\",\n        \"std\": 1,\n        \"min\": 1,\n        \"max\": 9,\n        \"num_unique_values\": 9,\n        \"samples\": [\n          9,\n          1,\n          5\n        ],\n        \"semantic_type\": \"\",\n        \"description\": \"\"\n      }\n    },\n    {\n      \"column\": \"sales_channel\",\n      \"properties\": {\n        \"dtype\": \"category\",\n        \"num_unique_values\": 2,\n        \"samples\": [\n          \"Mobile\",\n          \"Internet\"\n        ],\n        \"semantic_type\": \"\",\n        \"description\": \"\"\n      }\n    },\n    {\n      \"column\": \"trip_type\",\n      \"properties\": {\n        \"dtype\": \"category\",\n        \"num_unique_values\": 3,\n        \"samples\": [\n          \"RoundTrip\",\n          \"CircleTrip\"\n        ],\n        \"semantic_type\": \"\",\n        \"description\": \"\"\n      }\n    },\n    {\n      \"column\": \"purchase_lead\",\n      \"properties\": {\n        \"dtype\": \"number\",\n        \"std\": 90,\n        \"min\": 0,\n        \"max\": 867,\n        \"num_unique_values\": 470,\n        \"samples\": [\n          102,\n          63\n        ],\n        \"semantic_type\": \"\",\n        \"description\": \"\"\n      }\n    },\n    {\n      \"column\": \"length_of_stay\",\n      \"properties\": {\n        \"dtype\": \"number\",\n        \"std\": 33,\n        \"min\": 0,\n        \"max\": 778,\n        \"num_unique_values\": 335,\n        \"samples\": [\n          23,\n          184\n        ],\n        \"semantic_type\": \"\",\n        \"description\": \"\"\n      }\n    },\n    {\n      \"column\": \"flight_hour\",\n      \"properties\": {\n        \"dtype\": \"number\",\n        \"std\": 5,\n        \"min\": 0,\n        \"max\": 23,\n        \"num_unique_values\": 24,\n        \"samples\": [\n          12,\n          11\n        ],\n        \"semantic_type\": \"\",\n        \"description\": \"\"\n      }\n    },\n    {\n      \"column\": \"flight_day\",\n      \"properties\": {\n        \"dtype\": \"category\",\n        \"num_unique_values\": 7,\n        \"samples\": [\n          \"Sat\",\n          \"Wed\"\n        ],\n        \"semantic_type\": \"\",\n        \"description\": \"\"\n      }\n    },\n    {\n      \"column\": \"route\",\n      \"properties\": {\n        \"dtype\": \"category\",\n        \"num_unique_values\": 799,\n        \"samples\": [\n          \"SYDTPE\",\n          \"PUSSYD\"\n        ],\n        \"semantic_type\": \"\",\n        \"description\": \"\"\n      }\n    },\n    {\n      \"column\": \"booking_origin\",\n      \"properties\": {\n        \"dtype\": \"category\",\n        \"num_unique_values\": 104,\n        \"samples\": [\n          \"Croatia\",\n          \"Jordan\"\n        ],\n        \"semantic_type\": \"\",\n        \"description\": \"\"\n      }\n    },\n    {\n      \"column\": \"wants_extra_baggage\",\n      \"properties\": {\n        \"dtype\": \"number\",\n        \"std\": 0,\n        \"min\": 0,\n        \"max\": 1,\n        \"num_unique_values\": 2,\n        \"samples\": [\n          0,\n          1\n        ],\n        \"semantic_type\": \"\",\n        \"description\": \"\"\n      }\n    },\n    {\n      \"column\": \"wants_preferred_seat\",\n      \"properties\": {\n        \"dtype\": \"number\",\n        \"std\": 0,\n        \"min\": 0,\n        \"max\": 1,\n        \"num_unique_values\": 2,\n        \"samples\": [\n          1,\n          0\n        ],\n        \"semantic_type\": \"\",\n        \"description\": \"\"\n      }\n    },\n    {\n      \"column\": \"wants_in_flight_meals\",\n      \"properties\": {\n        \"dtype\": \"number\",\n        \"std\": 0,\n        \"min\": 0,\n        \"max\": 1,\n        \"num_unique_values\": 2,\n        \"samples\": [\n          1,\n          0\n        ],\n        \"semantic_type\": \"\",\n        \"description\": \"\"\n      }\n    },\n    {\n      \"column\": \"flight_duration\",\n      \"properties\": {\n        \"dtype\": \"number\",\n        \"std\": 1.496862916326865,\n        \"min\": 4.67,\n        \"max\": 9.5,\n        \"num_unique_values\": 21,\n        \"samples\": [\n          5.52,\n          5.0\n        ],\n        \"semantic_type\": \"\",\n        \"description\": \"\"\n      }\n    },\n    {\n      \"column\": \"booking_complete\",\n      \"properties\": {\n        \"dtype\": \"number\",\n        \"std\": 0,\n        \"min\": 0,\n        \"max\": 1,\n        \"num_unique_values\": 2,\n        \"samples\": [\n          1,\n          0\n        ],\n        \"semantic_type\": \"\",\n        \"description\": \"\"\n      }\n    }\n  ]\n}"
            }
          },
          "metadata": {},
          "execution_count": 44
        }
      ],
      "execution_count": 44
    },
    {
      "cell_type": "code",
      "source": [
        "import os\n",
        "print(os.listdir())"
      ],
      "metadata": {
        "colab": {
          "base_uri": "https://localhost:8080/"
        },
        "id": "t1XPBdazlEgj",
        "outputId": "7d61ef35-6751-4295-922e-f4a84085d555"
      },
      "execution_count": 45,
      "outputs": [
        {
          "output_type": "stream",
          "name": "stdout",
          "text": [
            "['.config', 'drive', 'customer_booking.csv', 'your_file_utf-8.csv', 'sample_data']\n"
          ]
        }
      ]
    },
    {
      "cell_type": "code",
      "source": [
        "from google.colab import drive\n",
        "drive.mount('/content/drive')"
      ],
      "metadata": {
        "colab": {
          "base_uri": "https://localhost:8080/"
        },
        "id": "2imOBrMS8Szw",
        "outputId": "9b48ce25-2639-4514-ba76-a67f608b245f"
      },
      "execution_count": 46,
      "outputs": [
        {
          "output_type": "stream",
          "name": "stdout",
          "text": [
            "Drive already mounted at /content/drive; to attempt to forcibly remount, call drive.mount(\"/content/drive\", force_remount=True).\n"
          ]
        }
      ]
    },
    {
      "cell_type": "markdown",
      "source": [
        "**Since the dataset is encoded in Windows-1252, we’ll convert it to UTF-8 to ensure compatibility for further analysis**"
      ],
      "metadata": {
        "id": "fhAh56mj6LOU"
      }
    },
    {
      "cell_type": "code",
      "source": [
        "customer_booking_data.to_csv('your_file_utf-8.csv', index= False,encoding = 'utf-8')\n",
        "print(\"✅ Dataset successfully saved in UTF-8 encoding.\")\n",
        "print('Now its ready for further analysis')\n",
        "customer_booking_data.head()\n"
      ],
      "metadata": {
        "trusted": true,
        "execution": {
          "iopub.status.busy": "2025-07-28T11:39:41.905232Z",
          "iopub.execute_input": "2025-07-28T11:39:41.905575Z",
          "iopub.status.idle": "2025-07-28T11:39:42.174779Z",
          "shell.execute_reply.started": "2025-07-28T11:39:41.905545Z",
          "shell.execute_reply": "2025-07-28T11:39:42.173891Z"
        },
        "colab": {
          "base_uri": "https://localhost:8080/",
          "height": 261
        },
        "id": "uuGB0Vo36LOU",
        "outputId": "53359e48-3b7d-4f60-9485-369209bb128b"
      },
      "outputs": [
        {
          "output_type": "stream",
          "name": "stdout",
          "text": [
            "✅ Dataset successfully saved in UTF-8 encoding.\n",
            "Now its ready for further analysis\n"
          ]
        },
        {
          "output_type": "execute_result",
          "data": {
            "text/plain": [
              "   num_passengers sales_channel  trip_type  purchase_lead  length_of_stay  \\\n",
              "0               2      Internet  RoundTrip            262              19   \n",
              "1               1      Internet  RoundTrip            112              20   \n",
              "2               2      Internet  RoundTrip            243              22   \n",
              "3               1      Internet  RoundTrip             96              31   \n",
              "4               2      Internet  RoundTrip             68              22   \n",
              "\n",
              "   flight_hour flight_day   route booking_origin  wants_extra_baggage  \\\n",
              "0            7        Sat  AKLDEL    New Zealand                    1   \n",
              "1            3        Sat  AKLDEL    New Zealand                    0   \n",
              "2           17        Wed  AKLDEL          India                    1   \n",
              "3            4        Sat  AKLDEL    New Zealand                    0   \n",
              "4           15        Wed  AKLDEL          India                    1   \n",
              "\n",
              "   wants_preferred_seat  wants_in_flight_meals  flight_duration  \\\n",
              "0                     0                      0             5.52   \n",
              "1                     0                      0             5.52   \n",
              "2                     1                      0             5.52   \n",
              "3                     0                      1             5.52   \n",
              "4                     0                      1             5.52   \n",
              "\n",
              "   booking_complete  \n",
              "0                 0  \n",
              "1                 0  \n",
              "2                 0  \n",
              "3                 0  \n",
              "4                 0  "
            ],
            "text/html": [
              "\n",
              "  <div id=\"df-940fd6d9-5492-43e6-9dd1-c4b8b2936994\" class=\"colab-df-container\">\n",
              "    <div>\n",
              "<style scoped>\n",
              "    .dataframe tbody tr th:only-of-type {\n",
              "        vertical-align: middle;\n",
              "    }\n",
              "\n",
              "    .dataframe tbody tr th {\n",
              "        vertical-align: top;\n",
              "    }\n",
              "\n",
              "    .dataframe thead th {\n",
              "        text-align: right;\n",
              "    }\n",
              "</style>\n",
              "<table border=\"1\" class=\"dataframe\">\n",
              "  <thead>\n",
              "    <tr style=\"text-align: right;\">\n",
              "      <th></th>\n",
              "      <th>num_passengers</th>\n",
              "      <th>sales_channel</th>\n",
              "      <th>trip_type</th>\n",
              "      <th>purchase_lead</th>\n",
              "      <th>length_of_stay</th>\n",
              "      <th>flight_hour</th>\n",
              "      <th>flight_day</th>\n",
              "      <th>route</th>\n",
              "      <th>booking_origin</th>\n",
              "      <th>wants_extra_baggage</th>\n",
              "      <th>wants_preferred_seat</th>\n",
              "      <th>wants_in_flight_meals</th>\n",
              "      <th>flight_duration</th>\n",
              "      <th>booking_complete</th>\n",
              "    </tr>\n",
              "  </thead>\n",
              "  <tbody>\n",
              "    <tr>\n",
              "      <th>0</th>\n",
              "      <td>2</td>\n",
              "      <td>Internet</td>\n",
              "      <td>RoundTrip</td>\n",
              "      <td>262</td>\n",
              "      <td>19</td>\n",
              "      <td>7</td>\n",
              "      <td>Sat</td>\n",
              "      <td>AKLDEL</td>\n",
              "      <td>New Zealand</td>\n",
              "      <td>1</td>\n",
              "      <td>0</td>\n",
              "      <td>0</td>\n",
              "      <td>5.52</td>\n",
              "      <td>0</td>\n",
              "    </tr>\n",
              "    <tr>\n",
              "      <th>1</th>\n",
              "      <td>1</td>\n",
              "      <td>Internet</td>\n",
              "      <td>RoundTrip</td>\n",
              "      <td>112</td>\n",
              "      <td>20</td>\n",
              "      <td>3</td>\n",
              "      <td>Sat</td>\n",
              "      <td>AKLDEL</td>\n",
              "      <td>New Zealand</td>\n",
              "      <td>0</td>\n",
              "      <td>0</td>\n",
              "      <td>0</td>\n",
              "      <td>5.52</td>\n",
              "      <td>0</td>\n",
              "    </tr>\n",
              "    <tr>\n",
              "      <th>2</th>\n",
              "      <td>2</td>\n",
              "      <td>Internet</td>\n",
              "      <td>RoundTrip</td>\n",
              "      <td>243</td>\n",
              "      <td>22</td>\n",
              "      <td>17</td>\n",
              "      <td>Wed</td>\n",
              "      <td>AKLDEL</td>\n",
              "      <td>India</td>\n",
              "      <td>1</td>\n",
              "      <td>1</td>\n",
              "      <td>0</td>\n",
              "      <td>5.52</td>\n",
              "      <td>0</td>\n",
              "    </tr>\n",
              "    <tr>\n",
              "      <th>3</th>\n",
              "      <td>1</td>\n",
              "      <td>Internet</td>\n",
              "      <td>RoundTrip</td>\n",
              "      <td>96</td>\n",
              "      <td>31</td>\n",
              "      <td>4</td>\n",
              "      <td>Sat</td>\n",
              "      <td>AKLDEL</td>\n",
              "      <td>New Zealand</td>\n",
              "      <td>0</td>\n",
              "      <td>0</td>\n",
              "      <td>1</td>\n",
              "      <td>5.52</td>\n",
              "      <td>0</td>\n",
              "    </tr>\n",
              "    <tr>\n",
              "      <th>4</th>\n",
              "      <td>2</td>\n",
              "      <td>Internet</td>\n",
              "      <td>RoundTrip</td>\n",
              "      <td>68</td>\n",
              "      <td>22</td>\n",
              "      <td>15</td>\n",
              "      <td>Wed</td>\n",
              "      <td>AKLDEL</td>\n",
              "      <td>India</td>\n",
              "      <td>1</td>\n",
              "      <td>0</td>\n",
              "      <td>1</td>\n",
              "      <td>5.52</td>\n",
              "      <td>0</td>\n",
              "    </tr>\n",
              "  </tbody>\n",
              "</table>\n",
              "</div>\n",
              "    <div class=\"colab-df-buttons\">\n",
              "\n",
              "  <div class=\"colab-df-container\">\n",
              "    <button class=\"colab-df-convert\" onclick=\"convertToInteractive('df-940fd6d9-5492-43e6-9dd1-c4b8b2936994')\"\n",
              "            title=\"Convert this dataframe to an interactive table.\"\n",
              "            style=\"display:none;\">\n",
              "\n",
              "  <svg xmlns=\"http://www.w3.org/2000/svg\" height=\"24px\" viewBox=\"0 -960 960 960\">\n",
              "    <path d=\"M120-120v-720h720v720H120Zm60-500h600v-160H180v160Zm220 220h160v-160H400v160Zm0 220h160v-160H400v160ZM180-400h160v-160H180v160Zm440 0h160v-160H620v160ZM180-180h160v-160H180v160Zm440 0h160v-160H620v160Z\"/>\n",
              "  </svg>\n",
              "    </button>\n",
              "\n",
              "  <style>\n",
              "    .colab-df-container {\n",
              "      display:flex;\n",
              "      gap: 12px;\n",
              "    }\n",
              "\n",
              "    .colab-df-convert {\n",
              "      background-color: #E8F0FE;\n",
              "      border: none;\n",
              "      border-radius: 50%;\n",
              "      cursor: pointer;\n",
              "      display: none;\n",
              "      fill: #1967D2;\n",
              "      height: 32px;\n",
              "      padding: 0 0 0 0;\n",
              "      width: 32px;\n",
              "    }\n",
              "\n",
              "    .colab-df-convert:hover {\n",
              "      background-color: #E2EBFA;\n",
              "      box-shadow: 0px 1px 2px rgba(60, 64, 67, 0.3), 0px 1px 3px 1px rgba(60, 64, 67, 0.15);\n",
              "      fill: #174EA6;\n",
              "    }\n",
              "\n",
              "    .colab-df-buttons div {\n",
              "      margin-bottom: 4px;\n",
              "    }\n",
              "\n",
              "    [theme=dark] .colab-df-convert {\n",
              "      background-color: #3B4455;\n",
              "      fill: #D2E3FC;\n",
              "    }\n",
              "\n",
              "    [theme=dark] .colab-df-convert:hover {\n",
              "      background-color: #434B5C;\n",
              "      box-shadow: 0px 1px 3px 1px rgba(0, 0, 0, 0.15);\n",
              "      filter: drop-shadow(0px 1px 2px rgba(0, 0, 0, 0.3));\n",
              "      fill: #FFFFFF;\n",
              "    }\n",
              "  </style>\n",
              "\n",
              "    <script>\n",
              "      const buttonEl =\n",
              "        document.querySelector('#df-940fd6d9-5492-43e6-9dd1-c4b8b2936994 button.colab-df-convert');\n",
              "      buttonEl.style.display =\n",
              "        google.colab.kernel.accessAllowed ? 'block' : 'none';\n",
              "\n",
              "      async function convertToInteractive(key) {\n",
              "        const element = document.querySelector('#df-940fd6d9-5492-43e6-9dd1-c4b8b2936994');\n",
              "        const dataTable =\n",
              "          await google.colab.kernel.invokeFunction('convertToInteractive',\n",
              "                                                    [key], {});\n",
              "        if (!dataTable) return;\n",
              "\n",
              "        const docLinkHtml = 'Like what you see? Visit the ' +\n",
              "          '<a target=\"_blank\" href=https://colab.research.google.com/notebooks/data_table.ipynb>data table notebook</a>'\n",
              "          + ' to learn more about interactive tables.';\n",
              "        element.innerHTML = '';\n",
              "        dataTable['output_type'] = 'display_data';\n",
              "        await google.colab.output.renderOutput(dataTable, element);\n",
              "        const docLink = document.createElement('div');\n",
              "        docLink.innerHTML = docLinkHtml;\n",
              "        element.appendChild(docLink);\n",
              "      }\n",
              "    </script>\n",
              "  </div>\n",
              "\n",
              "\n",
              "    <div id=\"df-dc4aab1d-eade-4025-97c4-5eead6a4d1ba\">\n",
              "      <button class=\"colab-df-quickchart\" onclick=\"quickchart('df-dc4aab1d-eade-4025-97c4-5eead6a4d1ba')\"\n",
              "                title=\"Suggest charts\"\n",
              "                style=\"display:none;\">\n",
              "\n",
              "<svg xmlns=\"http://www.w3.org/2000/svg\" height=\"24px\"viewBox=\"0 0 24 24\"\n",
              "     width=\"24px\">\n",
              "    <g>\n",
              "        <path d=\"M19 3H5c-1.1 0-2 .9-2 2v14c0 1.1.9 2 2 2h14c1.1 0 2-.9 2-2V5c0-1.1-.9-2-2-2zM9 17H7v-7h2v7zm4 0h-2V7h2v10zm4 0h-2v-4h2v4z\"/>\n",
              "    </g>\n",
              "</svg>\n",
              "      </button>\n",
              "\n",
              "<style>\n",
              "  .colab-df-quickchart {\n",
              "      --bg-color: #E8F0FE;\n",
              "      --fill-color: #1967D2;\n",
              "      --hover-bg-color: #E2EBFA;\n",
              "      --hover-fill-color: #174EA6;\n",
              "      --disabled-fill-color: #AAA;\n",
              "      --disabled-bg-color: #DDD;\n",
              "  }\n",
              "\n",
              "  [theme=dark] .colab-df-quickchart {\n",
              "      --bg-color: #3B4455;\n",
              "      --fill-color: #D2E3FC;\n",
              "      --hover-bg-color: #434B5C;\n",
              "      --hover-fill-color: #FFFFFF;\n",
              "      --disabled-bg-color: #3B4455;\n",
              "      --disabled-fill-color: #666;\n",
              "  }\n",
              "\n",
              "  .colab-df-quickchart {\n",
              "    background-color: var(--bg-color);\n",
              "    border: none;\n",
              "    border-radius: 50%;\n",
              "    cursor: pointer;\n",
              "    display: none;\n",
              "    fill: var(--fill-color);\n",
              "    height: 32px;\n",
              "    padding: 0;\n",
              "    width: 32px;\n",
              "  }\n",
              "\n",
              "  .colab-df-quickchart:hover {\n",
              "    background-color: var(--hover-bg-color);\n",
              "    box-shadow: 0 1px 2px rgba(60, 64, 67, 0.3), 0 1px 3px 1px rgba(60, 64, 67, 0.15);\n",
              "    fill: var(--button-hover-fill-color);\n",
              "  }\n",
              "\n",
              "  .colab-df-quickchart-complete:disabled,\n",
              "  .colab-df-quickchart-complete:disabled:hover {\n",
              "    background-color: var(--disabled-bg-color);\n",
              "    fill: var(--disabled-fill-color);\n",
              "    box-shadow: none;\n",
              "  }\n",
              "\n",
              "  .colab-df-spinner {\n",
              "    border: 2px solid var(--fill-color);\n",
              "    border-color: transparent;\n",
              "    border-bottom-color: var(--fill-color);\n",
              "    animation:\n",
              "      spin 1s steps(1) infinite;\n",
              "  }\n",
              "\n",
              "  @keyframes spin {\n",
              "    0% {\n",
              "      border-color: transparent;\n",
              "      border-bottom-color: var(--fill-color);\n",
              "      border-left-color: var(--fill-color);\n",
              "    }\n",
              "    20% {\n",
              "      border-color: transparent;\n",
              "      border-left-color: var(--fill-color);\n",
              "      border-top-color: var(--fill-color);\n",
              "    }\n",
              "    30% {\n",
              "      border-color: transparent;\n",
              "      border-left-color: var(--fill-color);\n",
              "      border-top-color: var(--fill-color);\n",
              "      border-right-color: var(--fill-color);\n",
              "    }\n",
              "    40% {\n",
              "      border-color: transparent;\n",
              "      border-right-color: var(--fill-color);\n",
              "      border-top-color: var(--fill-color);\n",
              "    }\n",
              "    60% {\n",
              "      border-color: transparent;\n",
              "      border-right-color: var(--fill-color);\n",
              "    }\n",
              "    80% {\n",
              "      border-color: transparent;\n",
              "      border-right-color: var(--fill-color);\n",
              "      border-bottom-color: var(--fill-color);\n",
              "    }\n",
              "    90% {\n",
              "      border-color: transparent;\n",
              "      border-bottom-color: var(--fill-color);\n",
              "    }\n",
              "  }\n",
              "</style>\n",
              "\n",
              "      <script>\n",
              "        async function quickchart(key) {\n",
              "          const quickchartButtonEl =\n",
              "            document.querySelector('#' + key + ' button');\n",
              "          quickchartButtonEl.disabled = true;  // To prevent multiple clicks.\n",
              "          quickchartButtonEl.classList.add('colab-df-spinner');\n",
              "          try {\n",
              "            const charts = await google.colab.kernel.invokeFunction(\n",
              "                'suggestCharts', [key], {});\n",
              "          } catch (error) {\n",
              "            console.error('Error during call to suggestCharts:', error);\n",
              "          }\n",
              "          quickchartButtonEl.classList.remove('colab-df-spinner');\n",
              "          quickchartButtonEl.classList.add('colab-df-quickchart-complete');\n",
              "        }\n",
              "        (() => {\n",
              "          let quickchartButtonEl =\n",
              "            document.querySelector('#df-dc4aab1d-eade-4025-97c4-5eead6a4d1ba button');\n",
              "          quickchartButtonEl.style.display =\n",
              "            google.colab.kernel.accessAllowed ? 'block' : 'none';\n",
              "        })();\n",
              "      </script>\n",
              "    </div>\n",
              "\n",
              "    </div>\n",
              "  </div>\n"
            ],
            "application/vnd.google.colaboratory.intrinsic+json": {
              "type": "dataframe",
              "variable_name": "customer_booking_data",
              "summary": "{\n  \"name\": \"customer_booking_data\",\n  \"rows\": 50000,\n  \"fields\": [\n    {\n      \"column\": \"num_passengers\",\n      \"properties\": {\n        \"dtype\": \"number\",\n        \"std\": 1,\n        \"min\": 1,\n        \"max\": 9,\n        \"num_unique_values\": 9,\n        \"samples\": [\n          9,\n          1,\n          5\n        ],\n        \"semantic_type\": \"\",\n        \"description\": \"\"\n      }\n    },\n    {\n      \"column\": \"sales_channel\",\n      \"properties\": {\n        \"dtype\": \"category\",\n        \"num_unique_values\": 2,\n        \"samples\": [\n          \"Mobile\",\n          \"Internet\"\n        ],\n        \"semantic_type\": \"\",\n        \"description\": \"\"\n      }\n    },\n    {\n      \"column\": \"trip_type\",\n      \"properties\": {\n        \"dtype\": \"category\",\n        \"num_unique_values\": 3,\n        \"samples\": [\n          \"RoundTrip\",\n          \"CircleTrip\"\n        ],\n        \"semantic_type\": \"\",\n        \"description\": \"\"\n      }\n    },\n    {\n      \"column\": \"purchase_lead\",\n      \"properties\": {\n        \"dtype\": \"number\",\n        \"std\": 90,\n        \"min\": 0,\n        \"max\": 867,\n        \"num_unique_values\": 470,\n        \"samples\": [\n          102,\n          63\n        ],\n        \"semantic_type\": \"\",\n        \"description\": \"\"\n      }\n    },\n    {\n      \"column\": \"length_of_stay\",\n      \"properties\": {\n        \"dtype\": \"number\",\n        \"std\": 33,\n        \"min\": 0,\n        \"max\": 778,\n        \"num_unique_values\": 335,\n        \"samples\": [\n          23,\n          184\n        ],\n        \"semantic_type\": \"\",\n        \"description\": \"\"\n      }\n    },\n    {\n      \"column\": \"flight_hour\",\n      \"properties\": {\n        \"dtype\": \"number\",\n        \"std\": 5,\n        \"min\": 0,\n        \"max\": 23,\n        \"num_unique_values\": 24,\n        \"samples\": [\n          12,\n          11\n        ],\n        \"semantic_type\": \"\",\n        \"description\": \"\"\n      }\n    },\n    {\n      \"column\": \"flight_day\",\n      \"properties\": {\n        \"dtype\": \"category\",\n        \"num_unique_values\": 7,\n        \"samples\": [\n          \"Sat\",\n          \"Wed\"\n        ],\n        \"semantic_type\": \"\",\n        \"description\": \"\"\n      }\n    },\n    {\n      \"column\": \"route\",\n      \"properties\": {\n        \"dtype\": \"category\",\n        \"num_unique_values\": 799,\n        \"samples\": [\n          \"SYDTPE\",\n          \"PUSSYD\"\n        ],\n        \"semantic_type\": \"\",\n        \"description\": \"\"\n      }\n    },\n    {\n      \"column\": \"booking_origin\",\n      \"properties\": {\n        \"dtype\": \"category\",\n        \"num_unique_values\": 104,\n        \"samples\": [\n          \"Croatia\",\n          \"Jordan\"\n        ],\n        \"semantic_type\": \"\",\n        \"description\": \"\"\n      }\n    },\n    {\n      \"column\": \"wants_extra_baggage\",\n      \"properties\": {\n        \"dtype\": \"number\",\n        \"std\": 0,\n        \"min\": 0,\n        \"max\": 1,\n        \"num_unique_values\": 2,\n        \"samples\": [\n          0,\n          1\n        ],\n        \"semantic_type\": \"\",\n        \"description\": \"\"\n      }\n    },\n    {\n      \"column\": \"wants_preferred_seat\",\n      \"properties\": {\n        \"dtype\": \"number\",\n        \"std\": 0,\n        \"min\": 0,\n        \"max\": 1,\n        \"num_unique_values\": 2,\n        \"samples\": [\n          1,\n          0\n        ],\n        \"semantic_type\": \"\",\n        \"description\": \"\"\n      }\n    },\n    {\n      \"column\": \"wants_in_flight_meals\",\n      \"properties\": {\n        \"dtype\": \"number\",\n        \"std\": 0,\n        \"min\": 0,\n        \"max\": 1,\n        \"num_unique_values\": 2,\n        \"samples\": [\n          1,\n          0\n        ],\n        \"semantic_type\": \"\",\n        \"description\": \"\"\n      }\n    },\n    {\n      \"column\": \"flight_duration\",\n      \"properties\": {\n        \"dtype\": \"number\",\n        \"std\": 1.496862916326865,\n        \"min\": 4.67,\n        \"max\": 9.5,\n        \"num_unique_values\": 21,\n        \"samples\": [\n          5.52,\n          5.0\n        ],\n        \"semantic_type\": \"\",\n        \"description\": \"\"\n      }\n    },\n    {\n      \"column\": \"booking_complete\",\n      \"properties\": {\n        \"dtype\": \"number\",\n        \"std\": 0,\n        \"min\": 0,\n        \"max\": 1,\n        \"num_unique_values\": 2,\n        \"samples\": [\n          1,\n          0\n        ],\n        \"semantic_type\": \"\",\n        \"description\": \"\"\n      }\n    }\n  ]\n}"
            }
          },
          "metadata": {},
          "execution_count": 47
        }
      ],
      "execution_count": 47
    },
    {
      "cell_type": "markdown",
      "source": [
        "**Dataset Overview: Columns Description**\n",
        "\n",
        "Let’s take a look at the columns present in the dataset and understand what each one represents.\n"
      ],
      "metadata": {
        "id": "4GcoRUgP6LOU"
      }
    },
    {
      "cell_type": "code",
      "source": [
        "print(customer_booking_data.columns)"
      ],
      "metadata": {
        "trusted": true,
        "execution": {
          "iopub.status.busy": "2025-07-28T11:39:42.176733Z",
          "iopub.execute_input": "2025-07-28T11:39:42.177060Z",
          "iopub.status.idle": "2025-07-28T11:39:42.183681Z",
          "shell.execute_reply.started": "2025-07-28T11:39:42.177030Z",
          "shell.execute_reply": "2025-07-28T11:39:42.182664Z"
        },
        "colab": {
          "base_uri": "https://localhost:8080/"
        },
        "id": "CHvQTp-F6LOU",
        "outputId": "129b1d44-56b9-4d38-814d-8e9f8fe8150c"
      },
      "outputs": [
        {
          "output_type": "stream",
          "name": "stdout",
          "text": [
            "Index(['num_passengers', 'sales_channel', 'trip_type', 'purchase_lead',\n",
            "       'length_of_stay', 'flight_hour', 'flight_day', 'route',\n",
            "       'booking_origin', 'wants_extra_baggage', 'wants_preferred_seat',\n",
            "       'wants_in_flight_meals', 'flight_duration', 'booking_complete'],\n",
            "      dtype='object')\n"
          ]
        }
      ],
      "execution_count": 48
    },
    {
      "cell_type": "markdown",
      "source": [
        "**num_passengers** = number of passengers travelling\n",
        "**sales_channel** = sales channel booking was made on\n",
        "**trip_type** = trip Type (Round Trip, One Way, Circle Trip)\n",
        "**purchase_lead** = number of days between travel date and booking date\n",
        "**length_of_stay** = number of days spent at destination\n",
        "**flight_hour** = hour of flight departure\n",
        "**flight_day** = day of week of flight departure\n",
        "**route = origin** -> destination flight route\n",
        "**booking_origin** = country from where booking was made\n",
        "**wants_extra_baggage** = if the customer wanted extra baggage in the booking\n",
        "**wants_preferred_seat** = if the customer wanted a preferred seat in the booking\n",
        "**wants_in_flight_meals** = if the customer wanted in-flight meals in the booking\n",
        "**flight_duration** = total duration of flight (in hours)\n",
        "**booking_complete** = flag indicating if the customer completed the booking"
      ],
      "metadata": {
        "id": "KFsL8sIN6LOV"
      }
    },
    {
      "cell_type": "markdown",
      "source": [
        "# 1. **Data Cleaning**\n",
        "\n",
        "Before moving to the analysis, we’ll clean the dataset by:\n",
        "- Handling missing values\n",
        "- Removing duplicates\n",
        "- Standardizing categorical fields\n",
        "- Checking for inconsistent data types\n"
      ],
      "metadata": {
        "id": "f-veaSwD6LOV"
      }
    },
    {
      "cell_type": "code",
      "source": [
        "#Handling missing values....\n",
        "customer_booking_data.isnull().sum()"
      ],
      "metadata": {
        "trusted": true,
        "execution": {
          "iopub.status.busy": "2025-07-28T11:39:42.184880Z",
          "iopub.execute_input": "2025-07-28T11:39:42.185436Z",
          "iopub.status.idle": "2025-07-28T11:39:42.229606Z",
          "shell.execute_reply.started": "2025-07-28T11:39:42.185392Z",
          "shell.execute_reply": "2025-07-28T11:39:42.228783Z"
        },
        "colab": {
          "base_uri": "https://localhost:8080/",
          "height": 523
        },
        "id": "57DBTbWe6LOV",
        "outputId": "3ec07e30-d064-4102-a574-33f033b06e64"
      },
      "outputs": [
        {
          "output_type": "execute_result",
          "data": {
            "text/plain": [
              "num_passengers           0\n",
              "sales_channel            0\n",
              "trip_type                0\n",
              "purchase_lead            0\n",
              "length_of_stay           0\n",
              "flight_hour              0\n",
              "flight_day               0\n",
              "route                    0\n",
              "booking_origin           0\n",
              "wants_extra_baggage      0\n",
              "wants_preferred_seat     0\n",
              "wants_in_flight_meals    0\n",
              "flight_duration          0\n",
              "booking_complete         0\n",
              "dtype: int64"
            ],
            "text/html": [
              "<div>\n",
              "<style scoped>\n",
              "    .dataframe tbody tr th:only-of-type {\n",
              "        vertical-align: middle;\n",
              "    }\n",
              "\n",
              "    .dataframe tbody tr th {\n",
              "        vertical-align: top;\n",
              "    }\n",
              "\n",
              "    .dataframe thead th {\n",
              "        text-align: right;\n",
              "    }\n",
              "</style>\n",
              "<table border=\"1\" class=\"dataframe\">\n",
              "  <thead>\n",
              "    <tr style=\"text-align: right;\">\n",
              "      <th></th>\n",
              "      <th>0</th>\n",
              "    </tr>\n",
              "  </thead>\n",
              "  <tbody>\n",
              "    <tr>\n",
              "      <th>num_passengers</th>\n",
              "      <td>0</td>\n",
              "    </tr>\n",
              "    <tr>\n",
              "      <th>sales_channel</th>\n",
              "      <td>0</td>\n",
              "    </tr>\n",
              "    <tr>\n",
              "      <th>trip_type</th>\n",
              "      <td>0</td>\n",
              "    </tr>\n",
              "    <tr>\n",
              "      <th>purchase_lead</th>\n",
              "      <td>0</td>\n",
              "    </tr>\n",
              "    <tr>\n",
              "      <th>length_of_stay</th>\n",
              "      <td>0</td>\n",
              "    </tr>\n",
              "    <tr>\n",
              "      <th>flight_hour</th>\n",
              "      <td>0</td>\n",
              "    </tr>\n",
              "    <tr>\n",
              "      <th>flight_day</th>\n",
              "      <td>0</td>\n",
              "    </tr>\n",
              "    <tr>\n",
              "      <th>route</th>\n",
              "      <td>0</td>\n",
              "    </tr>\n",
              "    <tr>\n",
              "      <th>booking_origin</th>\n",
              "      <td>0</td>\n",
              "    </tr>\n",
              "    <tr>\n",
              "      <th>wants_extra_baggage</th>\n",
              "      <td>0</td>\n",
              "    </tr>\n",
              "    <tr>\n",
              "      <th>wants_preferred_seat</th>\n",
              "      <td>0</td>\n",
              "    </tr>\n",
              "    <tr>\n",
              "      <th>wants_in_flight_meals</th>\n",
              "      <td>0</td>\n",
              "    </tr>\n",
              "    <tr>\n",
              "      <th>flight_duration</th>\n",
              "      <td>0</td>\n",
              "    </tr>\n",
              "    <tr>\n",
              "      <th>booking_complete</th>\n",
              "      <td>0</td>\n",
              "    </tr>\n",
              "  </tbody>\n",
              "</table>\n",
              "</div><br><label><b>dtype:</b> int64</label>"
            ]
          },
          "metadata": {},
          "execution_count": 49
        }
      ],
      "execution_count": 49
    },
    {
      "cell_type": "markdown",
      "source": [
        "After inspecting the dataset, we found that there are **no missing values** in any column. This means we can proceed with our analysis without needing to handle null entries or impute data.  \n",
        "This also suggests the dataset is relatively clean and ready for further preprocessing.\n"
      ],
      "metadata": {
        "id": "-HfQSBoX6LOW"
      }
    },
    {
      "cell_type": "code",
      "source": [
        "#Removing duplicates values....\n",
        "\n",
        "customer_booking_data.duplicated().sum() #to check for duplicates values\n",
        "\n",
        "customer_booking_data = customer_booking_data.drop_duplicates() #to drop/delete duplicate values\n"
      ],
      "metadata": {
        "trusted": true,
        "execution": {
          "iopub.status.busy": "2025-07-28T11:39:42.230721Z",
          "iopub.execute_input": "2025-07-28T11:39:42.231080Z",
          "iopub.status.idle": "2025-07-28T11:39:42.294330Z",
          "shell.execute_reply.started": "2025-07-28T11:39:42.231057Z",
          "shell.execute_reply": "2025-07-28T11:39:42.293444Z"
        },
        "id": "vpdXZDeP6LOW"
      },
      "outputs": [],
      "execution_count": 50
    },
    {
      "cell_type": "markdown",
      "source": [
        "Upon inspection, we found **716 duplicate rows** in the dataset.  \n",
        "Duplicate records can skew analysis, especially in aggregation or frequency-based insights.\n",
        "\n",
        "To ensure accuracy and consistency, we removed them using the `.drop_duplicates()` method"
      ],
      "metadata": {
        "id": "vg1dkQyK6LOW"
      }
    },
    {
      "cell_type": "code",
      "source": [
        "#Standardizing categorical fields.....\n",
        "customer_booking_data['sales_channel'].unique()\n",
        "customer_booking_data['trip_type'].unique()"
      ],
      "metadata": {
        "trusted": true,
        "execution": {
          "iopub.status.busy": "2025-07-28T11:39:42.295390Z",
          "iopub.execute_input": "2025-07-28T11:39:42.295999Z",
          "iopub.status.idle": "2025-07-28T11:39:42.309225Z",
          "shell.execute_reply.started": "2025-07-28T11:39:42.295967Z",
          "shell.execute_reply": "2025-07-28T11:39:42.308218Z"
        },
        "colab": {
          "base_uri": "https://localhost:8080/"
        },
        "id": "cKEe42YA6LOX",
        "outputId": "92ca29d7-7e21-4947-e7cf-4e44e7993065"
      },
      "outputs": [
        {
          "output_type": "execute_result",
          "data": {
            "text/plain": [
              "array(['RoundTrip', 'CircleTrip', 'OneWay'], dtype=object)"
            ]
          },
          "metadata": {},
          "execution_count": 51
        }
      ],
      "execution_count": 51
    },
    {
      "cell_type": "markdown",
      "source": [
        "To ensure consistency in the dataset, we reviewed the categorical columns such as `sales_channel`, `trip_type`, and `booking_origin` for formatting issues like inconsistent casing or extra whitespace.\n",
        "\n",
        "After checking the unique values in these columns, we found that the data was already standardized — all entries were clean, consistently formatted, and required no further cleaning.\n",
        "\n",
        "This indicates that the dataset is well-prepared for analysis with respect to categorical variables"
      ],
      "metadata": {
        "id": "JoxqGozG6LOX"
      }
    },
    {
      "cell_type": "code",
      "source": [
        "#Checking for inconsistent data types....\n",
        "customer_booking_data.dtypes"
      ],
      "metadata": {
        "trusted": true,
        "execution": {
          "iopub.status.busy": "2025-07-28T11:39:42.310162Z",
          "iopub.execute_input": "2025-07-28T11:39:42.310750Z",
          "iopub.status.idle": "2025-07-28T11:39:42.322105Z",
          "shell.execute_reply.started": "2025-07-28T11:39:42.310687Z",
          "shell.execute_reply": "2025-07-28T11:39:42.320663Z"
        },
        "colab": {
          "base_uri": "https://localhost:8080/",
          "height": 523
        },
        "id": "s5jVEqk16LOX",
        "outputId": "6d833319-9368-4b8d-91d9-6731de1decb3"
      },
      "outputs": [
        {
          "output_type": "execute_result",
          "data": {
            "text/plain": [
              "num_passengers             int64\n",
              "sales_channel             object\n",
              "trip_type                 object\n",
              "purchase_lead              int64\n",
              "length_of_stay             int64\n",
              "flight_hour                int64\n",
              "flight_day                object\n",
              "route                     object\n",
              "booking_origin            object\n",
              "wants_extra_baggage        int64\n",
              "wants_preferred_seat       int64\n",
              "wants_in_flight_meals      int64\n",
              "flight_duration          float64\n",
              "booking_complete           int64\n",
              "dtype: object"
            ],
            "text/html": [
              "<div>\n",
              "<style scoped>\n",
              "    .dataframe tbody tr th:only-of-type {\n",
              "        vertical-align: middle;\n",
              "    }\n",
              "\n",
              "    .dataframe tbody tr th {\n",
              "        vertical-align: top;\n",
              "    }\n",
              "\n",
              "    .dataframe thead th {\n",
              "        text-align: right;\n",
              "    }\n",
              "</style>\n",
              "<table border=\"1\" class=\"dataframe\">\n",
              "  <thead>\n",
              "    <tr style=\"text-align: right;\">\n",
              "      <th></th>\n",
              "      <th>0</th>\n",
              "    </tr>\n",
              "  </thead>\n",
              "  <tbody>\n",
              "    <tr>\n",
              "      <th>num_passengers</th>\n",
              "      <td>int64</td>\n",
              "    </tr>\n",
              "    <tr>\n",
              "      <th>sales_channel</th>\n",
              "      <td>object</td>\n",
              "    </tr>\n",
              "    <tr>\n",
              "      <th>trip_type</th>\n",
              "      <td>object</td>\n",
              "    </tr>\n",
              "    <tr>\n",
              "      <th>purchase_lead</th>\n",
              "      <td>int64</td>\n",
              "    </tr>\n",
              "    <tr>\n",
              "      <th>length_of_stay</th>\n",
              "      <td>int64</td>\n",
              "    </tr>\n",
              "    <tr>\n",
              "      <th>flight_hour</th>\n",
              "      <td>int64</td>\n",
              "    </tr>\n",
              "    <tr>\n",
              "      <th>flight_day</th>\n",
              "      <td>object</td>\n",
              "    </tr>\n",
              "    <tr>\n",
              "      <th>route</th>\n",
              "      <td>object</td>\n",
              "    </tr>\n",
              "    <tr>\n",
              "      <th>booking_origin</th>\n",
              "      <td>object</td>\n",
              "    </tr>\n",
              "    <tr>\n",
              "      <th>wants_extra_baggage</th>\n",
              "      <td>int64</td>\n",
              "    </tr>\n",
              "    <tr>\n",
              "      <th>wants_preferred_seat</th>\n",
              "      <td>int64</td>\n",
              "    </tr>\n",
              "    <tr>\n",
              "      <th>wants_in_flight_meals</th>\n",
              "      <td>int64</td>\n",
              "    </tr>\n",
              "    <tr>\n",
              "      <th>flight_duration</th>\n",
              "      <td>float64</td>\n",
              "    </tr>\n",
              "    <tr>\n",
              "      <th>booking_complete</th>\n",
              "      <td>int64</td>\n",
              "    </tr>\n",
              "  </tbody>\n",
              "</table>\n",
              "</div><br><label><b>dtype:</b> object</label>"
            ]
          },
          "metadata": {},
          "execution_count": 52
        }
      ],
      "execution_count": 52
    },
    {
      "cell_type": "markdown",
      "source": [
        "**Data Type Validation**\n",
        "\n",
        "We reviewed the data types of each column to ensure they are appropriate for analysis.  \n",
        "This step is important because incorrect types (like numbers stored as strings or dates stored as objects) can interfere with analysis and visualization.\n",
        "\n",
        "After inspecting with `df.dtypes`, we confirmed that:\n",
        "- Numerical columns are correctly typed as `int` or `float`\n",
        "- Categorical columns are of type `object`\n",
        "\n",
        "No major inconsistencies were found, so the dataset is ready for analysis.\n"
      ],
      "metadata": {
        "id": "H8KwvETe6LOX"
      }
    },
    {
      "cell_type": "markdown",
      "source": [
        "# 2. *Univariate Analysis*\n",
        "\n",
        "Let’s analyze the distribution of key variables like `purchase_lead` and `trip_type` to understand general trends in customer behavior.\n"
      ],
      "metadata": {
        "id": "mEqugOhi6LOX"
      }
    },
    {
      "cell_type": "markdown",
      "source": [
        "# 2.1 Distribution of `purchase_lead`"
      ],
      "metadata": {
        "id": "wxZ7MQCD6LOY"
      }
    },
    {
      "cell_type": "code",
      "source": [
        "# We’ll plot a smoothed histogram (KDE plot) to observe the distribution of lead times between booking and flight departure\n",
        "sns.kdeplot(data= customer_booking_data['purchase_lead'], shade= True)\n",
        "\n",
        "# Setting the title for the KDE plot\n",
        "plt.title(\"Distribution of Purchase Lead Time\")\n"
      ],
      "metadata": {
        "trusted": true,
        "execution": {
          "iopub.status.busy": "2025-07-28T11:39:42.323223Z",
          "iopub.execute_input": "2025-07-28T11:39:42.324132Z",
          "iopub.status.idle": "2025-07-28T11:39:43.100562Z",
          "shell.execute_reply.started": "2025-07-28T11:39:42.324096Z",
          "shell.execute_reply": "2025-07-28T11:39:43.099515Z"
        },
        "colab": {
          "base_uri": "https://localhost:8080/",
          "height": 594
        },
        "id": "ugELdYY36LOY",
        "outputId": "a67ca61e-20ae-424e-d2d2-96d88b53565a"
      },
      "outputs": [
        {
          "output_type": "stream",
          "name": "stderr",
          "text": [
            "/tmp/ipython-input-3967718825.py:2: FutureWarning: \n",
            "\n",
            "`shade` is now deprecated in favor of `fill`; setting `fill=True`.\n",
            "This will become an error in seaborn v0.14.0; please update your code.\n",
            "\n",
            "  sns.kdeplot(data= customer_booking_data['purchase_lead'], shade= True)\n"
          ]
        },
        {
          "output_type": "execute_result",
          "data": {
            "text/plain": [
              "Text(0.5, 1.0, 'Distribution of Purchase Lead Time')"
            ]
          },
          "metadata": {},
          "execution_count": 53
        },
        {
          "output_type": "display_data",
          "data": {
            "text/plain": [
              "<Figure size 640x480 with 1 Axes>"
            ],
            "image/png": "[encoded data removed]"
          },
          "metadata": {}
        }
      ],
      "execution_count": 53
    },
    {
      "cell_type": "markdown",
      "source": [
        "**📊 Interpretation: Distribution of Purchase Lead Time**\n",
        "\n",
        "From the KDE plot above, we observe that most customers tend to book their flights very close to the departure date. The distribution is **right-skewed**, meaning:\n",
        "\n",
        "- A large concentration of bookings happens between **0 to 50 days** before departure.\n",
        "- There are **a few outliers** where customers book more than 200 days in advance, but these are relatively rare.\n",
        "- The long tail indicates that while most customers book close to their travel date, there are some early planners.\n",
        "\n",
        "This pattern is typical in consumer travel behavior — many travelers book within a few weeks of their intended flight.\n"
      ],
      "metadata": {
        "id": "lQxU7Vcm6LOY"
      }
    },
    {
      "cell_type": "markdown",
      "source": [
        "# 2.2 **Distribution of Trip Type**\n",
        "\n",
        "We'll now examine how `trip_type` are distributed across the dataset. This tells us whether customers are more often traveling for one-way or round trips.\n"
      ],
      "metadata": {
        "id": "IH9fKo4f6LOY"
      }
    },
    {
      "cell_type": "code",
      "source": [
        "customer_booking_data['trip_type'].value_counts # counting total individual num of trip type"
      ],
      "metadata": {
        "trusted": true,
        "execution": {
          "iopub.status.busy": "2025-07-28T11:39:43.103121Z",
          "iopub.execute_input": "2025-07-28T11:39:43.103427Z",
          "iopub.status.idle": "2025-07-28T11:39:43.111337Z",
          "shell.execute_reply.started": "2025-07-28T11:39:43.103397Z",
          "shell.execute_reply": "2025-07-28T11:39:43.110457Z"
        },
        "colab": {
          "base_uri": "https://localhost:8080/",
          "height": 204
        },
        "id": "WyeMJvJU6LOY",
        "outputId": "91852887-4541-4c07-bf8a-a6592ff404ab"
      },
      "outputs": [
        {
          "output_type": "execute_result",
          "data": {
            "text/plain": [
              "<bound method IndexOpsMixin.value_counts of 0        RoundTrip\n",
              "1        RoundTrip\n",
              "2        RoundTrip\n",
              "3        RoundTrip\n",
              "4        RoundTrip\n",
              "           ...    \n",
              "49995    RoundTrip\n",
              "49996    RoundTrip\n",
              "49997    RoundTrip\n",
              "49998    RoundTrip\n",
              "49999    RoundTrip\n",
              "Name: trip_type, Length: 49281, dtype: object>"
            ],
            "text/html": [
              "<div style=\"max-width:800px; border: 1px solid var(--colab-border-color);\"><style>\n",
              "      pre.function-repr-contents {\n",
              "        overflow-x: auto;\n",
              "        padding: 8px 12px;\n",
              "        max-height: 500px;\n",
              "      }\n",
              "\n",
              "      pre.function-repr-contents.function-repr-contents-collapsed {\n",
              "        cursor: pointer;\n",
              "        max-height: 100px;\n",
              "      }\n",
              "    </style>\n",
              "    <pre style=\"white-space: initial; background:\n",
              "         var(--colab-secondary-surface-color); padding: 8px 12px;\n",
              "         border-bottom: 1px solid var(--colab-border-color);\"><b>pandas.core.base.IndexOpsMixin.value_counts</b><br/>def value_counts(normalize: bool=False, sort: bool=True, ascending: bool=False, bins=None, dropna: bool=True) -&gt; Series</pre><pre class=\"function-repr-contents function-repr-contents-collapsed\" style=\"\"><a class=\"filepath\" style=\"display:none\" href=\"#\">/usr/local/lib/python3.11/dist-packages/pandas/core/base.py</a>Return a Series containing counts of unique values.\n",
              "\n",
              "The resulting object will be in descending order so that the\n",
              "first element is the most frequently-occurring element.\n",
              "Excludes NA values by default.\n",
              "\n",
              "Parameters\n",
              "----------\n",
              "normalize : bool, default False\n",
              "    If True then the object returned will contain the relative\n",
              "    frequencies of the unique values.\n",
              "sort : bool, default True\n",
              "    Sort by frequencies when True. Preserve the order of the data when False.\n",
              "ascending : bool, default False\n",
              "    Sort in ascending order.\n",
              "bins : int, optional\n",
              "    Rather than count values, group them into half-open bins,\n",
              "    a convenience for ``pd.cut``, only works with numeric data.\n",
              "dropna : bool, default True\n",
              "    Don&#x27;t include counts of NaN.\n",
              "\n",
              "Returns\n",
              "-------\n",
              "Series\n",
              "\n",
              "See Also\n",
              "--------\n",
              "Series.count: Number of non-NA elements in a Series.\n",
              "DataFrame.count: Number of non-NA elements in a DataFrame.\n",
              "DataFrame.value_counts: Equivalent method on DataFrames.\n",
              "\n",
              "Examples\n",
              "--------\n",
              "&gt;&gt;&gt; index = pd.Index([3, 1, 2, 3, 4, np.nan])\n",
              "&gt;&gt;&gt; index.value_counts()\n",
              "3.0    2\n",
              "1.0    1\n",
              "2.0    1\n",
              "4.0    1\n",
              "Name: count, dtype: int64\n",
              "\n",
              "With `normalize` set to `True`, returns the relative frequency by\n",
              "dividing all values by the sum of values.\n",
              "\n",
              "&gt;&gt;&gt; s = pd.Series([3, 1, 2, 3, 4, np.nan])\n",
              "&gt;&gt;&gt; s.value_counts(normalize=True)\n",
              "3.0    0.4\n",
              "1.0    0.2\n",
              "2.0    0.2\n",
              "4.0    0.2\n",
              "Name: proportion, dtype: float64\n",
              "\n",
              "**bins**\n",
              "\n",
              "Bins can be useful for going from a continuous variable to a\n",
              "categorical variable; instead of counting unique\n",
              "apparitions of values, divide the index in the specified\n",
              "number of half-open bins.\n",
              "\n",
              "&gt;&gt;&gt; s.value_counts(bins=3)\n",
              "(0.996, 2.0]    2\n",
              "(2.0, 3.0]      2\n",
              "(3.0, 4.0]      1\n",
              "Name: count, dtype: int64\n",
              "\n",
              "**dropna**\n",
              "\n",
              "With `dropna` set to `False` we can also see NaN index values.\n",
              "\n",
              "&gt;&gt;&gt; s.value_counts(dropna=False)\n",
              "3.0    2\n",
              "1.0    1\n",
              "2.0    1\n",
              "4.0    1\n",
              "NaN    1\n",
              "Name: count, dtype: int64</pre>\n",
              "      <script>\n",
              "      if (google.colab.kernel.accessAllowed && google.colab.files && google.colab.files.view) {\n",
              "        for (const element of document.querySelectorAll('.filepath')) {\n",
              "          element.style.display = 'block'\n",
              "          element.onclick = (event) => {\n",
              "            event.preventDefault();\n",
              "            event.stopPropagation();\n",
              "            google.colab.files.view(element.textContent, 923);\n",
              "          };\n",
              "        }\n",
              "      }\n",
              "      for (const element of document.querySelectorAll('.function-repr-contents')) {\n",
              "        element.onclick = (event) => {\n",
              "          event.preventDefault();\n",
              "          event.stopPropagation();\n",
              "          element.classList.toggle('function-repr-contents-collapsed');\n",
              "        };\n",
              "      }\n",
              "      </script>\n",
              "      </div>"
            ]
          },
          "metadata": {},
          "execution_count": 54
        }
      ],
      "execution_count": 54
    },
    {
      "cell_type": "code",
      "source": [
        "sns.countplot(data = customer_booking_data, x= 'trip_type')\n",
        "plt.yscale('log')  # Set y-axis to logarithmic scale\n",
        "plt.title(\"Distribution of Trip Types (Log Scale)\")\n",
        "plt.xlabel(\"Trip Type\")\n",
        "plt.ylabel(\"Log-scaled Count\")\n",
        "plt.show()"
      ],
      "metadata": {
        "trusted": true,
        "execution": {
          "iopub.status.busy": "2025-07-28T11:39:43.112271Z",
          "iopub.execute_input": "2025-07-28T11:39:43.112596Z",
          "iopub.status.idle": "2025-07-28T11:39:43.531200Z",
          "shell.execute_reply.started": "2025-07-28T11:39:43.112568Z",
          "shell.execute_reply": "2025-07-28T11:39:43.529964Z"
        },
        "colab": {
          "base_uri": "https://localhost:8080/",
          "height": 472
        },
        "id": "fNnESXHX6LOZ",
        "outputId": "f48f4c01-92b7-459a-a1c1-0d0c9a021933"
      },
      "outputs": [
        {
          "output_type": "display_data",
          "data": {
            "text/plain": [
              "<Figure size 640x480 with 1 Axes>"
            ],
            "image/png": "[encoded data removed]"
          },
          "metadata": {}
        }
      ],
      "execution_count": 55
    },
    {
      "cell_type": "markdown",
      "source": [
        "We observe that the majority of bookings were for **round trips**, followed by **one-way trips**.  \n",
        "**Circle trips** were the least common, indicating they are either less preferred or less frequently offered."
      ],
      "metadata": {
        "id": "Hv-xcnFA6LOZ"
      }
    },
    {
      "cell_type": "markdown",
      "source": [
        "- **Round Trip**: Travel from origin to destination and then back to the origin via the same route.\n",
        "- **Circle Trip**: Travel through multiple destinations in a loop, returning to the original point via a different path.\n",
        "- **One-Way Trip**: Travel from origin to destination with no return ticket.\n"
      ],
      "metadata": {
        "id": "ExHf8-Pd6LOZ"
      }
    },
    {
      "cell_type": "markdown",
      "source": [
        "# 2.3 Sales Channel Preferences\n",
        "\n",
        "Analyzing how customers book their flights can provide insight into channel performance — whether users prefer through Internet or Mobile booking using `sales_channel`.\n"
      ],
      "metadata": {
        "id": "y2wpTtjt6LOa"
      }
    },
    {
      "cell_type": "code",
      "source": [
        "customer_booking_data['sales_channel'].unique()\n",
        "customer_booking_data['sales_channel'].value_counts()"
      ],
      "metadata": {
        "trusted": true,
        "execution": {
          "iopub.status.busy": "2025-07-28T11:39:43.532108Z",
          "iopub.execute_input": "2025-07-28T11:39:43.532453Z",
          "iopub.status.idle": "2025-07-28T11:39:43.546542Z",
          "shell.execute_reply.started": "2025-07-28T11:39:43.532423Z",
          "shell.execute_reply": "2025-07-28T11:39:43.545559Z"
        },
        "colab": {
          "base_uri": "https://localhost:8080/",
          "height": 178
        },
        "id": "vOEckelf6LOa",
        "outputId": "a2405547-bd4e-4d39-89f1-8fce0f51ab62"
      },
      "outputs": [
        {
          "output_type": "execute_result",
          "data": {
            "text/plain": [
              "sales_channel\n",
              "Internet    43917\n",
              "Mobile       5364\n",
              "Name: count, dtype: int64"
            ],
            "text/html": [
              "<div>\n",
              "<style scoped>\n",
              "    .dataframe tbody tr th:only-of-type {\n",
              "        vertical-align: middle;\n",
              "    }\n",
              "\n",
              "    .dataframe tbody tr th {\n",
              "        vertical-align: top;\n",
              "    }\n",
              "\n",
              "    .dataframe thead th {\n",
              "        text-align: right;\n",
              "    }\n",
              "</style>\n",
              "<table border=\"1\" class=\"dataframe\">\n",
              "  <thead>\n",
              "    <tr style=\"text-align: right;\">\n",
              "      <th></th>\n",
              "      <th>count</th>\n",
              "    </tr>\n",
              "    <tr>\n",
              "      <th>sales_channel</th>\n",
              "      <th></th>\n",
              "    </tr>\n",
              "  </thead>\n",
              "  <tbody>\n",
              "    <tr>\n",
              "      <th>Internet</th>\n",
              "      <td>43917</td>\n",
              "    </tr>\n",
              "    <tr>\n",
              "      <th>Mobile</th>\n",
              "      <td>5364</td>\n",
              "    </tr>\n",
              "  </tbody>\n",
              "</table>\n",
              "</div><br><label><b>dtype:</b> int64</label>"
            ]
          },
          "metadata": {},
          "execution_count": 56
        }
      ],
      "execution_count": 56
    },
    {
      "cell_type": "code",
      "source": [
        "plt.figure(figsize=(13,6))\n",
        "sns.countplot(data = customer_booking_data,x ='sales_channel')\n",
        "plt.title('Sales Channel Preferences')"
      ],
      "metadata": {
        "trusted": true,
        "execution": {
          "iopub.status.busy": "2025-07-28T11:39:43.547652Z",
          "iopub.execute_input": "2025-07-28T11:39:43.547995Z",
          "iopub.status.idle": "2025-07-28T11:39:43.757154Z",
          "shell.execute_reply.started": "2025-07-28T11:39:43.547964Z",
          "shell.execute_reply": "2025-07-28T11:39:43.756188Z"
        },
        "colab": {
          "base_uri": "https://localhost:8080/",
          "height": 581
        },
        "id": "RJ1Ex4LL6LOb",
        "outputId": "cb9fc6ad-f03f-4690-d7ee-b92a97a47e5e"
      },
      "outputs": [
        {
          "output_type": "execute_result",
          "data": {
            "text/plain": [
              "Text(0.5, 1.0, 'Sales Channel Preferences')"
            ]
          },
          "metadata": {},
          "execution_count": 57
        },
        {
          "output_type": "display_data",
          "data": {
            "text/plain": [
              "<Figure size 1300x600 with 1 Axes>"
            ],
            "image/png": "[encoded data removed]"
          },
          "metadata": {}
        }
      ],
      "execution_count": 57
    },
    {
      "cell_type": "markdown",
      "source": [
        "As we can see from the count plot above, the majority of bookings were made via the **Internet (43,917 bookings)**, compared to **Mobile (5,364 bookings)**.\n",
        "This clearly indicates that customers prefer using the Internet (likely desktop or browser-based platforms) over mobile apps or devices for booking their flights"
      ],
      "metadata": {
        "id": "-Q7y8xhY6LOb"
      }
    },
    {
      "cell_type": "markdown",
      "source": [
        "# 2.4 Flight Day Analysis\n",
        "\n",
        "Let’s explore the distribution of `flight_day` across the days of the week.\n"
      ],
      "metadata": {
        "id": "AWVel2eQ6LOb"
      }
    },
    {
      "cell_type": "code",
      "source": [
        "plt.figure(figsize=(13,6))\n",
        "sns.countplot(data= customer_booking_data,x='flight_day', order=['Mon','Tue','Wed','Thu','Fri','Sat','Sun'])\n",
        "plt.title(\"Flight days distribution\")\n",
        "plt.xlabel('Day of Flight')"
      ],
      "metadata": {
        "trusted": true,
        "execution": {
          "iopub.status.busy": "2025-07-28T11:39:43.757986Z",
          "iopub.execute_input": "2025-07-28T11:39:43.758268Z",
          "iopub.status.idle": "2025-07-28T11:39:44.031834Z",
          "shell.execute_reply.started": "2025-07-28T11:39:43.758247Z",
          "shell.execute_reply": "2025-07-28T11:39:44.030909Z"
        },
        "colab": {
          "base_uri": "https://localhost:8080/",
          "height": 581
        },
        "id": "yamJzjoT6LOc",
        "outputId": "61ac07f7-dc88-4cb8-fcf1-7d06b3c4f35c"
      },
      "outputs": [
        {
          "output_type": "execute_result",
          "data": {
            "text/plain": [
              "Text(0.5, 0, 'Day of Flight')"
            ]
          },
          "metadata": {},
          "execution_count": 58
        },
        {
          "output_type": "display_data",
          "data": {
            "text/plain": [
              "<Figure size 1300x600 with 1 Axes>"
            ],
            "image/png": "[encoded data removed]"
          },
          "metadata": {}
        }
      ],
      "execution_count": 58
    },
    {
      "cell_type": "code",
      "source": [
        "customer_booking_data['flight_day'].value_counts()"
      ],
      "metadata": {
        "trusted": true,
        "execution": {
          "iopub.status.busy": "2025-07-28T11:39:44.032807Z",
          "iopub.execute_input": "2025-07-28T11:39:44.033086Z",
          "iopub.status.idle": "2025-07-28T11:39:44.048900Z",
          "shell.execute_reply.started": "2025-07-28T11:39:44.033057Z",
          "shell.execute_reply": "2025-07-28T11:39:44.046227Z"
        },
        "colab": {
          "base_uri": "https://localhost:8080/",
          "height": 335
        },
        "id": "zpWwMd8h6LOc",
        "outputId": "8b0f3e14-d88c-4081-9507-e75ccbe20f86"
      },
      "outputs": [
        {
          "output_type": "execute_result",
          "data": {
            "text/plain": [
              "flight_day\n",
              "Mon    7988\n",
              "Wed    7562\n",
              "Tue    7558\n",
              "Thu    7323\n",
              "Fri    6685\n",
              "Sun    6442\n",
              "Sat    5723\n",
              "Name: count, dtype: int64"
            ],
            "text/html": [
              "<div>\n",
              "<style scoped>\n",
              "    .dataframe tbody tr th:only-of-type {\n",
              "        vertical-align: middle;\n",
              "    }\n",
              "\n",
              "    .dataframe tbody tr th {\n",
              "        vertical-align: top;\n",
              "    }\n",
              "\n",
              "    .dataframe thead th {\n",
              "        text-align: right;\n",
              "    }\n",
              "</style>\n",
              "<table border=\"1\" class=\"dataframe\">\n",
              "  <thead>\n",
              "    <tr style=\"text-align: right;\">\n",
              "      <th></th>\n",
              "      <th>count</th>\n",
              "    </tr>\n",
              "    <tr>\n",
              "      <th>flight_day</th>\n",
              "      <th></th>\n",
              "    </tr>\n",
              "  </thead>\n",
              "  <tbody>\n",
              "    <tr>\n",
              "      <th>Mon</th>\n",
              "      <td>7988</td>\n",
              "    </tr>\n",
              "    <tr>\n",
              "      <th>Wed</th>\n",
              "      <td>7562</td>\n",
              "    </tr>\n",
              "    <tr>\n",
              "      <th>Tue</th>\n",
              "      <td>7558</td>\n",
              "    </tr>\n",
              "    <tr>\n",
              "      <th>Thu</th>\n",
              "      <td>7323</td>\n",
              "    </tr>\n",
              "    <tr>\n",
              "      <th>Fri</th>\n",
              "      <td>6685</td>\n",
              "    </tr>\n",
              "    <tr>\n",
              "      <th>Sun</th>\n",
              "      <td>6442</td>\n",
              "    </tr>\n",
              "    <tr>\n",
              "      <th>Sat</th>\n",
              "      <td>5723</td>\n",
              "    </tr>\n",
              "  </tbody>\n",
              "</table>\n",
              "</div><br><label><b>dtype:</b> int64</label>"
            ]
          },
          "metadata": {},
          "execution_count": 59
        }
      ],
      "execution_count": 59
    },
    {
      "cell_type": "markdown",
      "source": [
        "📅As we can see from the count plot, **Monday** has the **highest** number of flight bookings **(7,988)**, followed closely by **Wednesday (7,562)** and **Tuesday (7,558)**.\n",
        "The **lowest** number of bookings occur on **Saturday (5,723)**, suggesting that the beginning of the week is generally more popular for travel."
      ],
      "metadata": {
        "id": "dYr3u9QG6LOc"
      }
    },
    {
      "cell_type": "markdown",
      "source": [
        "# 3. **Bivariate Analysis**\n",
        "\n",
        "Now that we’ve explored the distribution of individual variables, we’ll examine how different features interact with each other. This helps us uncover deeper patterns in booking behavior."
      ],
      "metadata": {
        "id": "okG-78jF6LOc"
      }
    },
    {
      "cell_type": "markdown",
      "source": [
        "# 3.1 `num_passengers` vs `wants_extra_baggage`\n",
        "\n",
        "This plot compares the number of passengers with the customer's preference for extra baggage."
      ],
      "metadata": {
        "id": "SNn5x2t26LOc"
      }
    },
    {
      "cell_type": "code",
      "source": [
        "plt.figure(figsize=(16,6))\n",
        "plt.title('Proportion of Extra Baggage Requests Across Passenger Group Sizes')\n",
        "sns.barplot(data= customer_booking_data, y = 'wants_extra_baggage',x= 'num_passengers')\n",
        "plt.ylabel('Proportion Requesting Extra Baggage')\n",
        "plt.xlabel('Num of passengers')"
      ],
      "metadata": {
        "trusted": true,
        "execution": {
          "iopub.status.busy": "2025-07-28T11:39:44.049911Z",
          "iopub.execute_input": "2025-07-28T11:39:44.050243Z",
          "iopub.status.idle": "2025-07-28T11:39:44.934642Z",
          "shell.execute_reply.started": "2025-07-28T11:39:44.050202Z",
          "shell.execute_reply": "2025-07-28T11:39:44.933675Z"
        },
        "colab": {
          "base_uri": "https://localhost:8080/",
          "height": 581
        },
        "id": "Qm3iiZZX6LOd",
        "outputId": "64818986-04d5-49a5-ca70-b165a2495b27"
      },
      "outputs": [
        {
          "output_type": "execute_result",
          "data": {
            "text/plain": [
              "Text(0.5, 0, 'Num of passengers')"
            ]
          },
          "metadata": {},
          "execution_count": 60
        },
        {
          "output_type": "display_data",
          "data": {
            "text/plain": [
              "<Figure size 1600x600 with 1 Axes>"
            ],
            "image/png": "[encoded data removed]"
          },
          "metadata": {}
        }
      ],
      "execution_count": 60
    },
    {
      "cell_type": "code",
      "source": [
        "# Group by number of passengers and calculate mean of 'wants_extra_baggage'\n",
        "baggage_percent = customer_booking_data.groupby('num_passengers')['wants_extra_baggage'].mean().mul(100).round(2)\n",
        "baggage_percent"
      ],
      "metadata": {
        "trusted": true,
        "execution": {
          "iopub.status.busy": "2025-07-28T11:39:44.935612Z",
          "iopub.execute_input": "2025-07-28T11:39:44.936427Z",
          "iopub.status.idle": "2025-07-28T11:39:44.949452Z",
          "shell.execute_reply.started": "2025-07-28T11:39:44.936362Z",
          "shell.execute_reply": "2025-07-28T11:39:44.948442Z"
        },
        "colab": {
          "base_uri": "https://localhost:8080/",
          "height": 398
        },
        "id": "yJjWZdQF6LOd",
        "outputId": "8e18aaf6-1217-47d1-9877-ee542917ca59"
      },
      "outputs": [
        {
          "output_type": "execute_result",
          "data": {
            "text/plain": [
              "num_passengers\n",
              "1    62.31\n",
              "2    72.03\n",
              "3    77.45\n",
              "4    81.78\n",
              "5    82.72\n",
              "6    81.85\n",
              "7    85.98\n",
              "8    72.73\n",
              "9    79.69\n",
              "Name: wants_extra_baggage, dtype: float64"
            ],
            "text/html": [
              "<div>\n",
              "<style scoped>\n",
              "    .dataframe tbody tr th:only-of-type {\n",
              "        vertical-align: middle;\n",
              "    }\n",
              "\n",
              "    .dataframe tbody tr th {\n",
              "        vertical-align: top;\n",
              "    }\n",
              "\n",
              "    .dataframe thead th {\n",
              "        text-align: right;\n",
              "    }\n",
              "</style>\n",
              "<table border=\"1\" class=\"dataframe\">\n",
              "  <thead>\n",
              "    <tr style=\"text-align: right;\">\n",
              "      <th></th>\n",
              "      <th>wants_extra_baggage</th>\n",
              "    </tr>\n",
              "    <tr>\n",
              "      <th>num_passengers</th>\n",
              "      <th></th>\n",
              "    </tr>\n",
              "  </thead>\n",
              "  <tbody>\n",
              "    <tr>\n",
              "      <th>1</th>\n",
              "      <td>62.31</td>\n",
              "    </tr>\n",
              "    <tr>\n",
              "      <th>2</th>\n",
              "      <td>72.03</td>\n",
              "    </tr>\n",
              "    <tr>\n",
              "      <th>3</th>\n",
              "      <td>77.45</td>\n",
              "    </tr>\n",
              "    <tr>\n",
              "      <th>4</th>\n",
              "      <td>81.78</td>\n",
              "    </tr>\n",
              "    <tr>\n",
              "      <th>5</th>\n",
              "      <td>82.72</td>\n",
              "    </tr>\n",
              "    <tr>\n",
              "      <th>6</th>\n",
              "      <td>81.85</td>\n",
              "    </tr>\n",
              "    <tr>\n",
              "      <th>7</th>\n",
              "      <td>85.98</td>\n",
              "    </tr>\n",
              "    <tr>\n",
              "      <th>8</th>\n",
              "      <td>72.73</td>\n",
              "    </tr>\n",
              "    <tr>\n",
              "      <th>9</th>\n",
              "      <td>79.69</td>\n",
              "    </tr>\n",
              "  </tbody>\n",
              "</table>\n",
              "</div><br><label><b>dtype:</b> float64</label>"
            ]
          },
          "metadata": {},
          "execution_count": 61
        }
      ],
      "execution_count": 61
    },
    {
      "cell_type": "markdown",
      "source": [
        "\n",
        "📌 **Key Insights:**\n",
        "Even when traveling alone, more than 60% of passengers opt for extra baggage, indicating it is a common need regardless of group size.\n",
        "\n",
        "As the group size increases, the percentage steadily rises, peaking at nearly 86% for 7 passengers.\n",
        "\n",
        "This trend suggests that larger groups are more likely to carry additional luggage, possibly due to longer trips or shared packing among travelers.\n",
        "\n",
        "Interestingly, there's a small dip at 8 passengers, which may be due to a smaller sample size or group behavior (e.g., corporate or tour groups who pack lightly)\n",
        "\n",
        "🧠 **Interpretation:**\n",
        "This pattern strongly supports the idea that passengers value baggage flexibility, whether traveling solo or with others. While it's intuitive that groups need more luggage space, the high percentage among solo travelers suggests that extra baggage is a critical service and not limited to group dynamics."
      ],
      "metadata": {
        "id": "Alwuc9_a6LOp"
      }
    },
    {
      "cell_type": "markdown",
      "source": [
        "# 3.2 `sales_channel` VS `trip_type`\n",
        "In this section, we aim to explore the relationship between the sales channel used for booking (such as Internet or Mobile) and the type of trip selected by customers (One Way, Round Trip, Circle Trip).\n",
        "\n",
        "This analysis can help us understand customer preferences across different platforms and how they correlate with the nature of travel\n",
        "\n"
      ],
      "metadata": {
        "id": "FEugEAdu6LOp"
      }
    },
    {
      "cell_type": "code",
      "source": [
        "plt.figure(figsize=(8,7))\n",
        "sns.countplot(data=customer_booking_data,x='sales_channel',hue='trip_type')\n",
        "plt.title('Ticket sales channel by Trip type')\n",
        "plt.xlabel('Sales Channel')\n",
        "count_of_channel = customer_booking_data.groupby(['trip_type', 'sales_channel']).size().reset_index(name='count')\n",
        "count_of_channel\n"
      ],
      "metadata": {
        "trusted": true,
        "execution": {
          "iopub.status.busy": "2025-07-28T11:39:44.950803Z",
          "iopub.execute_input": "2025-07-28T11:39:44.951259Z",
          "iopub.status.idle": "2025-07-28T11:39:45.282981Z",
          "shell.execute_reply.started": "2025-07-28T11:39:44.951150Z",
          "shell.execute_reply": "2025-07-28T11:39:45.282062Z"
        },
        "colab": {
          "base_uri": "https://localhost:8080/",
          "height": 862
        },
        "id": "chC045u86LOp",
        "outputId": "65a642f1-d442-4803-eed2-0b50a4393f48"
      },
      "outputs": [
        {
          "output_type": "execute_result",
          "data": {
            "text/plain": [
              "    trip_type sales_channel  count\n",
              "0  CircleTrip      Internet    112\n",
              "1  CircleTrip        Mobile      4\n",
              "2      OneWay      Internet    369\n",
              "3      OneWay        Mobile     17\n",
              "4   RoundTrip      Internet  43436\n",
              "5   RoundTrip        Mobile   5343"
            ],
            "text/html": [
              "\n",
              "  <div id=\"df-6b2a51f4-a100-4408-ab2b-07b9f03b02d5\" class=\"colab-df-container\">\n",
              "    <div>\n",
              "<style scoped>\n",
              "    .dataframe tbody tr th:only-of-type {\n",
              "        vertical-align: middle;\n",
              "    }\n",
              "\n",
              "    .dataframe tbody tr th {\n",
              "        vertical-align: top;\n",
              "    }\n",
              "\n",
              "    .dataframe thead th {\n",
              "        text-align: right;\n",
              "    }\n",
              "</style>\n",
              "<table border=\"1\" class=\"dataframe\">\n",
              "  <thead>\n",
              "    <tr style=\"text-align: right;\">\n",
              "      <th></th>\n",
              "      <th>trip_type</th>\n",
              "      <th>sales_channel</th>\n",
              "      <th>count</th>\n",
              "    </tr>\n",
              "  </thead>\n",
              "  <tbody>\n",
              "    <tr>\n",
              "      <th>0</th>\n",
              "      <td>CircleTrip</td>\n",
              "      <td>Internet</td>\n",
              "      <td>112</td>\n",
              "    </tr>\n",
              "    <tr>\n",
              "      <th>1</th>\n",
              "      <td>CircleTrip</td>\n",
              "      <td>Mobile</td>\n",
              "      <td>4</td>\n",
              "    </tr>\n",
              "    <tr>\n",
              "      <th>2</th>\n",
              "      <td>OneWay</td>\n",
              "      <td>Internet</td>\n",
              "      <td>369</td>\n",
              "    </tr>\n",
              "    <tr>\n",
              "      <th>3</th>\n",
              "      <td>OneWay</td>\n",
              "      <td>Mobile</td>\n",
              "      <td>17</td>\n",
              "    </tr>\n",
              "    <tr>\n",
              "      <th>4</th>\n",
              "      <td>RoundTrip</td>\n",
              "      <td>Internet</td>\n",
              "      <td>43436</td>\n",
              "    </tr>\n",
              "    <tr>\n",
              "      <th>5</th>\n",
              "      <td>RoundTrip</td>\n",
              "      <td>Mobile</td>\n",
              "      <td>5343</td>\n",
              "    </tr>\n",
              "  </tbody>\n",
              "</table>\n",
              "</div>\n",
              "    <div class=\"colab-df-buttons\">\n",
              "\n",
              "  <div class=\"colab-df-container\">\n",
              "    <button class=\"colab-df-convert\" onclick=\"convertToInteractive('df-6b2a51f4-a100-4408-ab2b-07b9f03b02d5')\"\n",
              "            title=\"Convert this dataframe to an interactive table.\"\n",
              "            style=\"display:none;\">\n",
              "\n",
              "  <svg xmlns=\"http://www.w3.org/2000/svg\" height=\"24px\" viewBox=\"0 -960 960 960\">\n",
              "    <path d=\"M120-120v-720h720v720H120Zm60-500h600v-160H180v160Zm220 220h160v-160H400v160Zm0 220h160v-160H400v160ZM180-400h160v-160H180v160Zm440 0h160v-160H620v160ZM180-180h160v-160H180v160Zm440 0h160v-160H620v160Z\"/>\n",
              "  </svg>\n",
              "    </button>\n",
              "\n",
              "  <style>\n",
              "    .colab-df-container {\n",
              "      display:flex;\n",
              "      gap: 12px;\n",
              "    }\n",
              "\n",
              "    .colab-df-convert {\n",
              "      background-color: #E8F0FE;\n",
              "      border: none;\n",
              "      border-radius: 50%;\n",
              "      cursor: pointer;\n",
              "      display: none;\n",
              "      fill: #1967D2;\n",
              "      height: 32px;\n",
              "      padding: 0 0 0 0;\n",
              "      width: 32px;\n",
              "    }\n",
              "\n",
              "    .colab-df-convert:hover {\n",
              "      background-color: #E2EBFA;\n",
              "      box-shadow: 0px 1px 2px rgba(60, 64, 67, 0.3), 0px 1px 3px 1px rgba(60, 64, 67, 0.15);\n",
              "      fill: #174EA6;\n",
              "    }\n",
              "\n",
              "    .colab-df-buttons div {\n",
              "      margin-bottom: 4px;\n",
              "    }\n",
              "\n",
              "    [theme=dark] .colab-df-convert {\n",
              "      background-color: #3B4455;\n",
              "      fill: #D2E3FC;\n",
              "    }\n",
              "\n",
              "    [theme=dark] .colab-df-convert:hover {\n",
              "      background-color: #434B5C;\n",
              "      box-shadow: 0px 1px 3px 1px rgba(0, 0, 0, 0.15);\n",
              "      filter: drop-shadow(0px 1px 2px rgba(0, 0, 0, 0.3));\n",
              "      fill: #FFFFFF;\n",
              "    }\n",
              "  </style>\n",
              "\n",
              "    <script>\n",
              "      const buttonEl =\n",
              "        document.querySelector('#df-6b2a51f4-a100-4408-ab2b-07b9f03b02d5 button.colab-df-convert');\n",
              "      buttonEl.style.display =\n",
              "        google.colab.kernel.accessAllowed ? 'block' : 'none';\n",
              "\n",
              "      async function convertToInteractive(key) {\n",
              "        const element = document.querySelector('#df-6b2a51f4-a100-4408-ab2b-07b9f03b02d5');\n",
              "        const dataTable =\n",
              "          await google.colab.kernel.invokeFunction('convertToInteractive',\n",
              "                                                    [key], {});\n",
              "        if (!dataTable) return;\n",
              "\n",
              "        const docLinkHtml = 'Like what you see? Visit the ' +\n",
              "          '<a target=\"_blank\" href=https://colab.research.google.com/notebooks/data_table.ipynb>data table notebook</a>'\n",
              "          + ' to learn more about interactive tables.';\n",
              "        element.innerHTML = '';\n",
              "        dataTable['output_type'] = 'display_data';\n",
              "        await google.colab.output.renderOutput(dataTable, element);\n",
              "        const docLink = document.createElement('div');\n",
              "        docLink.innerHTML = docLinkHtml;\n",
              "        element.appendChild(docLink);\n",
              "      }\n",
              "    </script>\n",
              "  </div>\n",
              "\n",
              "\n",
              "    <div id=\"df-70ad3cf9-6faf-44e7-96d9-edf2e71f9fd2\">\n",
              "      <button class=\"colab-df-quickchart\" onclick=\"quickchart('df-70ad3cf9-6faf-44e7-96d9-edf2e71f9fd2')\"\n",
              "                title=\"Suggest charts\"\n",
              "                style=\"display:none;\">\n",
              "\n",
              "<svg xmlns=\"http://www.w3.org/2000/svg\" height=\"24px\"viewBox=\"0 0 24 24\"\n",
              "     width=\"24px\">\n",
              "    <g>\n",
              "        <path d=\"M19 3H5c-1.1 0-2 .9-2 2v14c0 1.1.9 2 2 2h14c1.1 0 2-.9 2-2V5c0-1.1-.9-2-2-2zM9 17H7v-7h2v7zm4 0h-2V7h2v10zm4 0h-2v-4h2v4z\"/>\n",
              "    </g>\n",
              "</svg>\n",
              "      </button>\n",
              "\n",
              "<style>\n",
              "  .colab-df-quickchart {\n",
              "      --bg-color: #E8F0FE;\n",
              "      --fill-color: #1967D2;\n",
              "      --hover-bg-color: #E2EBFA;\n",
              "      --hover-fill-color: #174EA6;\n",
              "      --disabled-fill-color: #AAA;\n",
              "      --disabled-bg-color: #DDD;\n",
              "  }\n",
              "\n",
              "  [theme=dark] .colab-df-quickchart {\n",
              "      --bg-color: #3B4455;\n",
              "      --fill-color: #D2E3FC;\n",
              "      --hover-bg-color: #434B5C;\n",
              "      --hover-fill-color: #FFFFFF;\n",
              "      --disabled-bg-color: #3B4455;\n",
              "      --disabled-fill-color: #666;\n",
              "  }\n",
              "\n",
              "  .colab-df-quickchart {\n",
              "    background-color: var(--bg-color);\n",
              "    border: none;\n",
              "    border-radius: 50%;\n",
              "    cursor: pointer;\n",
              "    display: none;\n",
              "    fill: var(--fill-color);\n",
              "    height: 32px;\n",
              "    padding: 0;\n",
              "    width: 32px;\n",
              "  }\n",
              "\n",
              "  .colab-df-quickchart:hover {\n",
              "    background-color: var(--hover-bg-color);\n",
              "    box-shadow: 0 1px 2px rgba(60, 64, 67, 0.3), 0 1px 3px 1px rgba(60, 64, 67, 0.15);\n",
              "    fill: var(--button-hover-fill-color);\n",
              "  }\n",
              "\n",
              "  .colab-df-quickchart-complete:disabled,\n",
              "  .colab-df-quickchart-complete:disabled:hover {\n",
              "    background-color: var(--disabled-bg-color);\n",
              "    fill: var(--disabled-fill-color);\n",
              "    box-shadow: none;\n",
              "  }\n",
              "\n",
              "  .colab-df-spinner {\n",
              "    border: 2px solid var(--fill-color);\n",
              "    border-color: transparent;\n",
              "    border-bottom-color: var(--fill-color);\n",
              "    animation:\n",
              "      spin 1s steps(1) infinite;\n",
              "  }\n",
              "\n",
              "  @keyframes spin {\n",
              "    0% {\n",
              "      border-color: transparent;\n",
              "      border-bottom-color: var(--fill-color);\n",
              "      border-left-color: var(--fill-color);\n",
              "    }\n",
              "    20% {\n",
              "      border-color: transparent;\n",
              "      border-left-color: var(--fill-color);\n",
              "      border-top-color: var(--fill-color);\n",
              "    }\n",
              "    30% {\n",
              "      border-color: transparent;\n",
              "      border-left-color: var(--fill-color);\n",
              "      border-top-color: var(--fill-color);\n",
              "      border-right-color: var(--fill-color);\n",
              "    }\n",
              "    40% {\n",
              "      border-color: transparent;\n",
              "      border-right-color: var(--fill-color);\n",
              "      border-top-color: var(--fill-color);\n",
              "    }\n",
              "    60% {\n",
              "      border-color: transparent;\n",
              "      border-right-color: var(--fill-color);\n",
              "    }\n",
              "    80% {\n",
              "      border-color: transparent;\n",
              "      border-right-color: var(--fill-color);\n",
              "      border-bottom-color: var(--fill-color);\n",
              "    }\n",
              "    90% {\n",
              "      border-color: transparent;\n",
              "      border-bottom-color: var(--fill-color);\n",
              "    }\n",
              "  }\n",
              "</style>\n",
              "\n",
              "      <script>\n",
              "        async function quickchart(key) {\n",
              "          const quickchartButtonEl =\n",
              "            document.querySelector('#' + key + ' button');\n",
              "          quickchartButtonEl.disabled = true;  // To prevent multiple clicks.\n",
              "          quickchartButtonEl.classList.add('colab-df-spinner');\n",
              "          try {\n",
              "            const charts = await google.colab.kernel.invokeFunction(\n",
              "                'suggestCharts', [key], {});\n",
              "          } catch (error) {\n",
              "            console.error('Error during call to suggestCharts:', error);\n",
              "          }\n",
              "          quickchartButtonEl.classList.remove('colab-df-spinner');\n",
              "          quickchartButtonEl.classList.add('colab-df-quickchart-complete');\n",
              "        }\n",
              "        (() => {\n",
              "          let quickchartButtonEl =\n",
              "            document.querySelector('#df-70ad3cf9-6faf-44e7-96d9-edf2e71f9fd2 button');\n",
              "          quickchartButtonEl.style.display =\n",
              "            google.colab.kernel.accessAllowed ? 'block' : 'none';\n",
              "        })();\n",
              "      </script>\n",
              "    </div>\n",
              "\n",
              "  <div id=\"id_9e29c86e-52fa-4d70-99a0-befed454b5ed\">\n",
              "    <style>\n",
              "      .colab-df-generate {\n",
              "        background-color: #E8F0FE;\n",
              "        border: none;\n",
              "        border-radius: 50%;\n",
              "        cursor: pointer;\n",
              "        display: none;\n",
              "        fill: #1967D2;\n",
              "        height: 32px;\n",
              "        padding: 0 0 0 0;\n",
              "        width: 32px;\n",
              "      }\n",
              "\n",
              "      .colab-df-generate:hover {\n",
              "        background-color: #E2EBFA;\n",
              "        box-shadow: 0px 1px 2px rgba(60, 64, 67, 0.3), 0px 1px 3px 1px rgba(60, 64, 67, 0.15);\n",
              "        fill: #174EA6;\n",
              "      }\n",
              "\n",
              "      [theme=dark] .colab-df-generate {\n",
              "        background-color: #3B4455;\n",
              "        fill: #D2E3FC;\n",
              "      }\n",
              "\n",
              "      [theme=dark] .colab-df-generate:hover {\n",
              "        background-color: #434B5C;\n",
              "        box-shadow: 0px 1px 3px 1px rgba(0, 0, 0, 0.15);\n",
              "        filter: drop-shadow(0px 1px 2px rgba(0, 0, 0, 0.3));\n",
              "        fill: #FFFFFF;\n",
              "      }\n",
              "    </style>\n",
              "    <button class=\"colab-df-generate\" onclick=\"generateWithVariable('count_of_channel')\"\n",
              "            title=\"Generate code using this dataframe.\"\n",
              "            style=\"display:none;\">\n",
              "\n",
              "  <svg xmlns=\"http://www.w3.org/2000/svg\" height=\"24px\"viewBox=\"0 0 24 24\"\n",
              "       width=\"24px\">\n",
              "    <path d=\"M7,19H8.4L18.45,9,17,7.55,7,17.6ZM5,21V16.75L18.45,3.32a2,2,0,0,1,2.83,0l1.4,1.43a1.91,1.91,0,0,1,.58,1.4,1.91,1.91,0,0,1-.58,1.4L9.25,21ZM18.45,9,17,7.55Zm-12,3A5.31,5.31,0,0,0,4.9,8.1,5.31,5.31,0,0,0,1,6.5,5.31,5.31,0,0,0,4.9,4.9,5.31,5.31,0,0,0,6.5,1,5.31,5.31,0,0,0,8.1,4.9,5.31,5.31,0,0,0,12,6.5,5.46,5.46,0,0,0,6.5,12Z\"/>\n",
              "  </svg>\n",
              "    </button>\n",
              "    <script>\n",
              "      (() => {\n",
              "      const buttonEl =\n",
              "        document.querySelector('#id_9e29c86e-52fa-4d70-99a0-befed454b5ed button.colab-df-generate');\n",
              "      buttonEl.style.display =\n",
              "        google.colab.kernel.accessAllowed ? 'block' : 'none';\n",
              "\n",
              "      buttonEl.onclick = () => {\n",
              "        google.colab.notebook.generateWithVariable('count_of_channel');\n",
              "      }\n",
              "      })();\n",
              "    </script>\n",
              "  </div>\n",
              "\n",
              "    </div>\n",
              "  </div>\n"
            ],
            "application/vnd.google.colaboratory.intrinsic+json": {
              "type": "dataframe",
              "variable_name": "count_of_channel",
              "summary": "{\n  \"name\": \"count_of_channel\",\n  \"rows\": 6,\n  \"fields\": [\n    {\n      \"column\": \"trip_type\",\n      \"properties\": {\n        \"dtype\": \"string\",\n        \"num_unique_values\": 3,\n        \"samples\": [\n          \"CircleTrip\",\n          \"OneWay\",\n          \"RoundTrip\"\n        ],\n        \"semantic_type\": \"\",\n        \"description\": \"\"\n      }\n    },\n    {\n      \"column\": \"sales_channel\",\n      \"properties\": {\n        \"dtype\": \"category\",\n        \"num_unique_values\": 2,\n        \"samples\": [\n          \"Mobile\",\n          \"Internet\"\n        ],\n        \"semantic_type\": \"\",\n        \"description\": \"\"\n      }\n    },\n    {\n      \"column\": \"count\",\n      \"properties\": {\n        \"dtype\": \"number\",\n        \"std\": 17381,\n        \"min\": 4,\n        \"max\": 43436,\n        \"num_unique_values\": 6,\n        \"samples\": [\n          112,\n          4\n        ],\n        \"semantic_type\": \"\",\n        \"description\": \"\"\n      }\n    }\n  ]\n}"
            }
          },
          "metadata": {},
          "execution_count": 62
        },
        {
          "output_type": "display_data",
          "data": {
            "text/plain": [
              "<Figure size 800x700 with 1 Axes>"
            ],
            "image/png": "[encoded data removed]"
          },
          "metadata": {}
        }
      ],
      "execution_count": 62
    },
    {
      "cell_type": "markdown",
      "source": [
        "As we can observe from the results, the majority of people prefer booking their tickets through the Internet rather than using mobile services, regardless of whether it's a round trip, one-way, or circle trip. Internet booking clearly dominates across all trip types"
      ],
      "metadata": {
        "id": "DG9QoOoQ6LOq"
      }
    },
    {
      "cell_type": "markdown",
      "source": [
        "# 4 Multivariate analysis\n",
        "\n",
        "**Until now, we have explored**:\n",
        "\n",
        "**Univariate analysis** (exploring individual variables),\n",
        "\n",
        "**Bivariate analysis** (exploring the relationship between two variables).\n",
        "\n",
        "Now, in this section, we will dive into **multivariate analysis** to examine the relationships among three or more variables simultaneously. This deeper level of analysis allows us to uncover more complex patterns and trends in customer behavior that might not be visible through simpler comparisons"
      ],
      "metadata": {
        "id": "vDffw06g6LOq"
      }
    },
    {
      "cell_type": "markdown",
      "source": [
        "# 4.1 `trip_type` vs `sales_channel` vs `wants_extra_baggage`\n",
        "In this analysis, we will explore whether passengers carrying extra baggage tend to prefer specific booking channels or types of trips"
      ],
      "metadata": {
        "id": "I3gASVfW6LOq"
      }
    },
    {
      "cell_type": "code",
      "source": [
        "sns.catplot(data=customer_booking_data, kind=\"bar\",x=\"sales_channel\", y=\"wants_extra_baggage\",hue=\"trip_type\")\n",
        "plt.title('Extra Baggage Preference by Trip Type and Booking Channel')\n",
        "plt.ylabel('Demand for extra baggage')\n",
        "plt.xlabel('Sales channel')"
      ],
      "metadata": {
        "trusted": true,
        "execution": {
          "iopub.status.busy": "2025-07-28T11:39:45.284084Z",
          "iopub.execute_input": "2025-07-28T11:39:45.284440Z",
          "iopub.status.idle": "2025-07-28T11:39:46.292445Z",
          "shell.execute_reply.started": "2025-07-28T11:39:45.284412Z",
          "shell.execute_reply": "2025-07-28T11:39:46.291450Z"
        },
        "colab": {
          "base_uri": "https://localhost:8080/",
          "height": 546
        },
        "id": "E3wUFfkW6LOq",
        "outputId": "67a0dbad-a639-4e82-e339-d5cfa0bc8672"
      },
      "outputs": [
        {
          "output_type": "execute_result",
          "data": {
            "text/plain": [
              "Text(0.5, 29.140624999999986, 'Sales channel')"
            ]
          },
          "metadata": {},
          "execution_count": 63
        },
        {
          "output_type": "display_data",
          "data": {
            "text/plain": [
              "<Figure size 618.875x500 with 1 Axes>"
            ],
            "image/png": "[encoded data removed]"
          },
          "metadata": {}
        }
      ],
      "execution_count": 63
    },
    {
      "cell_type": "markdown",
      "source": [
        "**Across both booking channels, passengers taking CircleTrips are the most likely to carry extra baggage, followed by OneWay, and then RoundTrip passengers.**"
      ],
      "metadata": {
        "id": "X8hzfiIh6LOq"
      }
    },
    {
      "cell_type": "markdown",
      "source": [
        "# 4.2 Meal Preference and Booking Completion by Country of Origin\n",
        "Which countries tend to opt for in-flight meals and complete their bookings?"
      ],
      "metadata": {
        "id": "Md2MZK7o6LOq"
      }
    },
    {
      "cell_type": "code",
      "source": [
        "meal_booking_summary = customer_booking_data.groupby(['booking_origin','wants_in_flight_meals','booking_complete']).size().reset_index(name='count')\n",
        "meal_booking_summary\n"
      ],
      "metadata": {
        "trusted": true,
        "execution": {
          "iopub.status.busy": "2025-07-28T11:39:46.293216Z",
          "iopub.execute_input": "2025-07-28T11:39:46.293710Z",
          "iopub.status.idle": "2025-07-28T11:39:46.314616Z",
          "shell.execute_reply.started": "2025-07-28T11:39:46.293688Z",
          "shell.execute_reply": "2025-07-28T11:39:46.313513Z"
        },
        "colab": {
          "base_uri": "https://localhost:8080/",
          "height": 424
        },
        "id": "YghMxZ-s6LOq",
        "outputId": "0b32443f-8b3b-4a3c-f757-def2e02bf969"
      },
      "outputs": [
        {
          "output_type": "execute_result",
          "data": {
            "text/plain": [
              "    booking_origin  wants_in_flight_meals  booking_complete  count\n",
              "0        (not set)                      0                 0     40\n",
              "1        (not set)                      0                 1     12\n",
              "2        (not set)                      1                 0     24\n",
              "3        (not set)                      1                 1      2\n",
              "4      Afghanistan                      0                 0      1\n",
              "..             ...                    ...               ...    ...\n",
              "261        Vanuatu                      0                 1      1\n",
              "262        Vietnam                      0                 0    173\n",
              "263        Vietnam                      0                 1     68\n",
              "264        Vietnam                      1                 0     99\n",
              "265        Vietnam                      1                 1     46\n",
              "\n",
              "[266 rows x 4 columns]"
            ],
            "text/html": [
              "\n",
              "  <div id=\"df-400eab15-23ae-4455-9c6d-200c4ccea3e2\" class=\"colab-df-container\">\n",
              "    <div>\n",
              "<style scoped>\n",
              "    .dataframe tbody tr th:only-of-type {\n",
              "        vertical-align: middle;\n",
              "    }\n",
              "\n",
              "    .dataframe tbody tr th {\n",
              "        vertical-align: top;\n",
              "    }\n",
              "\n",
              "    .dataframe thead th {\n",
              "        text-align: right;\n",
              "    }\n",
              "</style>\n",
              "<table border=\"1\" class=\"dataframe\">\n",
              "  <thead>\n",
              "    <tr style=\"text-align: right;\">\n",
              "      <th></th>\n",
              "      <th>booking_origin</th>\n",
              "      <th>wants_in_flight_meals</th>\n",
              "      <th>booking_complete</th>\n",
              "      <th>count</th>\n",
              "    </tr>\n",
              "  </thead>\n",
              "  <tbody>\n",
              "    <tr>\n",
              "      <th>0</th>\n",
              "      <td>(not set)</td>\n",
              "      <td>0</td>\n",
              "      <td>0</td>\n",
              "      <td>40</td>\n",
              "    </tr>\n",
              "    <tr>\n",
              "      <th>1</th>\n",
              "      <td>(not set)</td>\n",
              "      <td>0</td>\n",
              "      <td>1</td>\n",
              "      <td>12</td>\n",
              "    </tr>\n",
              "    <tr>\n",
              "      <th>2</th>\n",
              "      <td>(not set)</td>\n",
              "      <td>1</td>\n",
              "      <td>0</td>\n",
              "      <td>24</td>\n",
              "    </tr>\n",
              "    <tr>\n",
              "      <th>3</th>\n",
              "      <td>(not set)</td>\n",
              "      <td>1</td>\n",
              "      <td>1</td>\n",
              "      <td>2</td>\n",
              "    </tr>\n",
              "    <tr>\n",
              "      <th>4</th>\n",
              "      <td>Afghanistan</td>\n",
              "      <td>0</td>\n",
              "      <td>0</td>\n",
              "      <td>1</td>\n",
              "    </tr>\n",
              "    <tr>\n",
              "      <th>...</th>\n",
              "      <td>...</td>\n",
              "      <td>...</td>\n",
              "      <td>...</td>\n",
              "      <td>...</td>\n",
              "    </tr>\n",
              "    <tr>\n",
              "      <th>261</th>\n",
              "      <td>Vanuatu</td>\n",
              "      <td>0</td>\n",
              "      <td>1</td>\n",
              "      <td>1</td>\n",
              "    </tr>\n",
              "    <tr>\n",
              "      <th>262</th>\n",
              "      <td>Vietnam</td>\n",
              "      <td>0</td>\n",
              "      <td>0</td>\n",
              "      <td>173</td>\n",
              "    </tr>\n",
              "    <tr>\n",
              "      <th>263</th>\n",
              "      <td>Vietnam</td>\n",
              "      <td>0</td>\n",
              "      <td>1</td>\n",
              "      <td>68</td>\n",
              "    </tr>\n",
              "    <tr>\n",
              "      <th>264</th>\n",
              "      <td>Vietnam</td>\n",
              "      <td>1</td>\n",
              "      <td>0</td>\n",
              "      <td>99</td>\n",
              "    </tr>\n",
              "    <tr>\n",
              "      <th>265</th>\n",
              "      <td>Vietnam</td>\n",
              "      <td>1</td>\n",
              "      <td>1</td>\n",
              "      <td>46</td>\n",
              "    </tr>\n",
              "  </tbody>\n",
              "</table>\n",
              "<p>266 rows × 4 columns</p>\n",
              "</div>\n",
              "    <div class=\"colab-df-buttons\">\n",
              "\n",
              "  <div class=\"colab-df-container\">\n",
              "    <button class=\"colab-df-convert\" onclick=\"convertToInteractive('df-400eab15-23ae-4455-9c6d-200c4ccea3e2')\"\n",
              "            title=\"Convert this dataframe to an interactive table.\"\n",
              "            style=\"display:none;\">\n",
              "\n",
              "  <svg xmlns=\"http://www.w3.org/2000/svg\" height=\"24px\" viewBox=\"0 -960 960 960\">\n",
              "    <path d=\"M120-120v-720h720v720H120Zm60-500h600v-160H180v160Zm220 220h160v-160H400v160Zm0 220h160v-160H400v160ZM180-400h160v-160H180v160Zm440 0h160v-160H620v160ZM180-180h160v-160H180v160Zm440 0h160v-160H620v160Z\"/>\n",
              "  </svg>\n",
              "    </button>\n",
              "\n",
              "  <style>\n",
              "    .colab-df-container {\n",
              "      display:flex;\n",
              "      gap: 12px;\n",
              "    }\n",
              "\n",
              "    .colab-df-convert {\n",
              "      background-color: #E8F0FE;\n",
              "      border: none;\n",
              "      border-radius: 50%;\n",
              "      cursor: pointer;\n",
              "      display: none;\n",
              "      fill: #1967D2;\n",
              "      height: 32px;\n",
              "      padding: 0 0 0 0;\n",
              "      width: 32px;\n",
              "    }\n",
              "\n",
              "    .colab-df-convert:hover {\n",
              "      background-color: #E2EBFA;\n",
              "      box-shadow: 0px 1px 2px rgba(60, 64, 67, 0.3), 0px 1px 3px 1px rgba(60, 64, 67, 0.15);\n",
              "      fill: #174EA6;\n",
              "    }\n",
              "\n",
              "    .colab-df-buttons div {\n",
              "      margin-bottom: 4px;\n",
              "    }\n",
              "\n",
              "    [theme=dark] .colab-df-convert {\n",
              "      background-color: #3B4455;\n",
              "      fill: #D2E3FC;\n",
              "    }\n",
              "\n",
              "    [theme=dark] .colab-df-convert:hover {\n",
              "      background-color: #434B5C;\n",
              "      box-shadow: 0px 1px 3px 1px rgba(0, 0, 0, 0.15);\n",
              "      filter: drop-shadow(0px 1px 2px rgba(0, 0, 0, 0.3));\n",
              "      fill: #FFFFFF;\n",
              "    }\n",
              "  </style>\n",
              "\n",
              "    <script>\n",
              "      const buttonEl =\n",
              "        document.querySelector('#df-400eab15-23ae-4455-9c6d-200c4ccea3e2 button.colab-df-convert');\n",
              "      buttonEl.style.display =\n",
              "        google.colab.kernel.accessAllowed ? 'block' : 'none';\n",
              "\n",
              "      async function convertToInteractive(key) {\n",
              "        const element = document.querySelector('#df-400eab15-23ae-4455-9c6d-200c4ccea3e2');\n",
              "        const dataTable =\n",
              "          await google.colab.kernel.invokeFunction('convertToInteractive',\n",
              "                                                    [key], {});\n",
              "        if (!dataTable) return;\n",
              "\n",
              "        const docLinkHtml = 'Like what you see? Visit the ' +\n",
              "          '<a target=\"_blank\" href=https://colab.research.google.com/notebooks/data_table.ipynb>data table notebook</a>'\n",
              "          + ' to learn more about interactive tables.';\n",
              "        element.innerHTML = '';\n",
              "        dataTable['output_type'] = 'display_data';\n",
              "        await google.colab.output.renderOutput(dataTable, element);\n",
              "        const docLink = document.createElement('div');\n",
              "        docLink.innerHTML = docLinkHtml;\n",
              "        element.appendChild(docLink);\n",
              "      }\n",
              "    </script>\n",
              "  </div>\n",
              "\n",
              "\n",
              "    <div id=\"df-d685e75d-5d84-4ad4-ab1a-c0d39bf98ef6\">\n",
              "      <button class=\"colab-df-quickchart\" onclick=\"quickchart('df-d685e75d-5d84-4ad4-ab1a-c0d39bf98ef6')\"\n",
              "                title=\"Suggest charts\"\n",
              "                style=\"display:none;\">\n",
              "\n",
              "<svg xmlns=\"http://www.w3.org/2000/svg\" height=\"24px\"viewBox=\"0 0 24 24\"\n",
              "     width=\"24px\">\n",
              "    <g>\n",
              "        <path d=\"M19 3H5c-1.1 0-2 .9-2 2v14c0 1.1.9 2 2 2h14c1.1 0 2-.9 2-2V5c0-1.1-.9-2-2-2zM9 17H7v-7h2v7zm4 0h-2V7h2v10zm4 0h-2v-4h2v4z\"/>\n",
              "    </g>\n",
              "</svg>\n",
              "      </button>\n",
              "\n",
              "<style>\n",
              "  .colab-df-quickchart {\n",
              "      --bg-color: #E8F0FE;\n",
              "      --fill-color: #1967D2;\n",
              "      --hover-bg-color: #E2EBFA;\n",
              "      --hover-fill-color: #174EA6;\n",
              "      --disabled-fill-color: #AAA;\n",
              "      --disabled-bg-color: #DDD;\n",
              "  }\n",
              "\n",
              "  [theme=dark] .colab-df-quickchart {\n",
              "      --bg-color: #3B4455;\n",
              "      --fill-color: #D2E3FC;\n",
              "      --hover-bg-color: #434B5C;\n",
              "      --hover-fill-color: #FFFFFF;\n",
              "      --disabled-bg-color: #3B4455;\n",
              "      --disabled-fill-color: #666;\n",
              "  }\n",
              "\n",
              "  .colab-df-quickchart {\n",
              "    background-color: var(--bg-color);\n",
              "    border: none;\n",
              "    border-radius: 50%;\n",
              "    cursor: pointer;\n",
              "    display: none;\n",
              "    fill: var(--fill-color);\n",
              "    height: 32px;\n",
              "    padding: 0;\n",
              "    width: 32px;\n",
              "  }\n",
              "\n",
              "  .colab-df-quickchart:hover {\n",
              "    background-color: var(--hover-bg-color);\n",
              "    box-shadow: 0 1px 2px rgba(60, 64, 67, 0.3), 0 1px 3px 1px rgba(60, 64, 67, 0.15);\n",
              "    fill: var(--button-hover-fill-color);\n",
              "  }\n",
              "\n",
              "  .colab-df-quickchart-complete:disabled,\n",
              "  .colab-df-quickchart-complete:disabled:hover {\n",
              "    background-color: var(--disabled-bg-color);\n",
              "    fill: var(--disabled-fill-color);\n",
              "    box-shadow: none;\n",
              "  }\n",
              "\n",
              "  .colab-df-spinner {\n",
              "    border: 2px solid var(--fill-color);\n",
              "    border-color: transparent;\n",
              "    border-bottom-color: var(--fill-color);\n",
              "    animation:\n",
              "      spin 1s steps(1) infinite;\n",
              "  }\n",
              "\n",
              "  @keyframes spin {\n",
              "    0% {\n",
              "      border-color: transparent;\n",
              "      border-bottom-color: var(--fill-color);\n",
              "      border-left-color: var(--fill-color);\n",
              "    }\n",
              "    20% {\n",
              "      border-color: transparent;\n",
              "      border-left-color: var(--fill-color);\n",
              "      border-top-color: var(--fill-color);\n",
              "    }\n",
              "    30% {\n",
              "      border-color: transparent;\n",
              "      border-left-color: var(--fill-color);\n",
              "      border-top-color: var(--fill-color);\n",
              "      border-right-color: var(--fill-color);\n",
              "    }\n",
              "    40% {\n",
              "      border-color: transparent;\n",
              "      border-right-color: var(--fill-color);\n",
              "      border-top-color: var(--fill-color);\n",
              "    }\n",
              "    60% {\n",
              "      border-color: transparent;\n",
              "      border-right-color: var(--fill-color);\n",
              "    }\n",
              "    80% {\n",
              "      border-color: transparent;\n",
              "      border-right-color: var(--fill-color);\n",
              "      border-bottom-color: var(--fill-color);\n",
              "    }\n",
              "    90% {\n",
              "      border-color: transparent;\n",
              "      border-bottom-color: var(--fill-color);\n",
              "    }\n",
              "  }\n",
              "</style>\n",
              "\n",
              "      <script>\n",
              "        async function quickchart(key) {\n",
              "          const quickchartButtonEl =\n",
              "            document.querySelector('#' + key + ' button');\n",
              "          quickchartButtonEl.disabled = true;  // To prevent multiple clicks.\n",
              "          quickchartButtonEl.classList.add('colab-df-spinner');\n",
              "          try {\n",
              "            const charts = await google.colab.kernel.invokeFunction(\n",
              "                'suggestCharts', [key], {});\n",
              "          } catch (error) {\n",
              "            console.error('Error during call to suggestCharts:', error);\n",
              "          }\n",
              "          quickchartButtonEl.classList.remove('colab-df-spinner');\n",
              "          quickchartButtonEl.classList.add('colab-df-quickchart-complete');\n",
              "        }\n",
              "        (() => {\n",
              "          let quickchartButtonEl =\n",
              "            document.querySelector('#df-d685e75d-5d84-4ad4-ab1a-c0d39bf98ef6 button');\n",
              "          quickchartButtonEl.style.display =\n",
              "            google.colab.kernel.accessAllowed ? 'block' : 'none';\n",
              "        })();\n",
              "      </script>\n",
              "    </div>\n",
              "\n",
              "  <div id=\"id_6bf8b6ac-bfe0-4ebd-b1cd-6338129743c0\">\n",
              "    <style>\n",
              "      .colab-df-generate {\n",
              "        background-color: #E8F0FE;\n",
              "        border: none;\n",
              "        border-radius: 50%;\n",
              "        cursor: pointer;\n",
              "        display: none;\n",
              "        fill: #1967D2;\n",
              "        height: 32px;\n",
              "        padding: 0 0 0 0;\n",
              "        width: 32px;\n",
              "      }\n",
              "\n",
              "      .colab-df-generate:hover {\n",
              "        background-color: #E2EBFA;\n",
              "        box-shadow: 0px 1px 2px rgba(60, 64, 67, 0.3), 0px 1px 3px 1px rgba(60, 64, 67, 0.15);\n",
              "        fill: #174EA6;\n",
              "      }\n",
              "\n",
              "      [theme=dark] .colab-df-generate {\n",
              "        background-color: #3B4455;\n",
              "        fill: #D2E3FC;\n",
              "      }\n",
              "\n",
              "      [theme=dark] .colab-df-generate:hover {\n",
              "        background-color: #434B5C;\n",
              "        box-shadow: 0px 1px 3px 1px rgba(0, 0, 0, 0.15);\n",
              "        filter: drop-shadow(0px 1px 2px rgba(0, 0, 0, 0.3));\n",
              "        fill: #FFFFFF;\n",
              "      }\n",
              "    </style>\n",
              "    <button class=\"colab-df-generate\" onclick=\"generateWithVariable('meal_booking_summary')\"\n",
              "            title=\"Generate code using this dataframe.\"\n",
              "            style=\"display:none;\">\n",
              "\n",
              "  <svg xmlns=\"http://www.w3.org/2000/svg\" height=\"24px\"viewBox=\"0 0 24 24\"\n",
              "       width=\"24px\">\n",
              "    <path d=\"M7,19H8.4L18.45,9,17,7.55,7,17.6ZM5,21V16.75L18.45,3.32a2,2,0,0,1,2.83,0l1.4,1.43a1.91,1.91,0,0,1,.58,1.4,1.91,1.91,0,0,1-.58,1.4L9.25,21ZM18.45,9,17,7.55Zm-12,3A5.31,5.31,0,0,0,4.9,8.1,5.31,5.31,0,0,0,1,6.5,5.31,5.31,0,0,0,4.9,4.9,5.31,5.31,0,0,0,6.5,1,5.31,5.31,0,0,0,8.1,4.9,5.31,5.31,0,0,0,12,6.5,5.46,5.46,0,0,0,6.5,12Z\"/>\n",
              "  </svg>\n",
              "    </button>\n",
              "    <script>\n",
              "      (() => {\n",
              "      const buttonEl =\n",
              "        document.querySelector('#id_6bf8b6ac-bfe0-4ebd-b1cd-6338129743c0 button.colab-df-generate');\n",
              "      buttonEl.style.display =\n",
              "        google.colab.kernel.accessAllowed ? 'block' : 'none';\n",
              "\n",
              "      buttonEl.onclick = () => {\n",
              "        google.colab.notebook.generateWithVariable('meal_booking_summary');\n",
              "      }\n",
              "      })();\n",
              "    </script>\n",
              "  </div>\n",
              "\n",
              "    </div>\n",
              "  </div>\n"
            ],
            "application/vnd.google.colaboratory.intrinsic+json": {
              "type": "dataframe",
              "variable_name": "meal_booking_summary",
              "summary": "{\n  \"name\": \"meal_booking_summary\",\n  \"rows\": 266,\n  \"fields\": [\n    {\n      \"column\": \"booking_origin\",\n      \"properties\": {\n        \"dtype\": \"category\",\n        \"num_unique_values\": 104,\n        \"samples\": [\n          \"Gibraltar\",\n          \"Oman\",\n          \"Norway\"\n        ],\n        \"semantic_type\": \"\",\n        \"description\": \"\"\n      }\n    },\n    {\n      \"column\": \"wants_in_flight_meals\",\n      \"properties\": {\n        \"dtype\": \"number\",\n        \"std\": 0,\n        \"min\": 0,\n        \"max\": 1,\n        \"num_unique_values\": 2,\n        \"samples\": [\n          1,\n          0\n        ],\n        \"semantic_type\": \"\",\n        \"description\": \"\"\n      }\n    },\n    {\n      \"column\": \"booking_complete\",\n      \"properties\": {\n        \"dtype\": \"number\",\n        \"std\": 0,\n        \"min\": 0,\n        \"max\": 1,\n        \"num_unique_values\": 2,\n        \"samples\": [\n          1,\n          0\n        ],\n        \"semantic_type\": \"\",\n        \"description\": \"\"\n      }\n    },\n    {\n      \"column\": \"count\",\n      \"properties\": {\n        \"dtype\": \"number\",\n        \"std\": 807,\n        \"min\": 1,\n        \"max\": 8442,\n        \"num_unique_values\": 96,\n        \"samples\": [\n          149,\n          28\n        ],\n        \"semantic_type\": \"\",\n        \"description\": \"\"\n      }\n    }\n  ]\n}"
            }
          },
          "metadata": {},
          "execution_count": 64
        }
      ],
      "execution_count": 64
    },
    {
      "cell_type": "code",
      "source": [
        "#indicating 0,1 to new names for better understanding\n",
        "customer_booking_data['new_label']= customer_booking_data['booking_complete'].map({1: 'completed',0: 'not completed'})\n",
        "customer_booking_data['wants_meal']= customer_booking_data['wants_in_flight_meals'].map({1: 'yes',0: 'no'})\n",
        "# getting information of the top countries\n",
        "top_countries = customer_booking_data['booking_origin'].value_counts().nlargest(5).index\n",
        "\n",
        "\n",
        "filtered_data = customer_booking_data[customer_booking_data['booking_origin'].isin(top_countries)]\n",
        "\n",
        "\n",
        "sns.catplot(data= filtered_data,x='booking_origin',hue= 'wants_meal',col = 'new_label',kind= 'count')"
      ],
      "metadata": {
        "trusted": true,
        "execution": {
          "iopub.status.busy": "2025-07-28T11:39:46.315732Z",
          "iopub.execute_input": "2025-07-28T11:39:46.316058Z",
          "iopub.status.idle": "2025-07-28T11:39:47.088527Z",
          "shell.execute_reply.started": "2025-07-28T11:39:46.316027Z",
          "shell.execute_reply": "2025-07-28T11:39:47.087544Z"
        },
        "colab": {
          "base_uri": "https://localhost:8080/",
          "height": 524
        },
        "id": "psMH_AAq6LOr",
        "outputId": "f936bf9a-196f-4965-e592-2044f3c388d7"
      },
      "outputs": [
        {
          "output_type": "execute_result",
          "data": {
            "text/plain": [
              "<seaborn.axisgrid.FacetGrid at 0x7b873ea2b610>"
            ]
          },
          "metadata": {},
          "execution_count": 65
        },
        {
          "output_type": "display_data",
          "data": {
            "text/plain": [
              "<Figure size 1093.99x500 with 2 Axes>"
            ],
            "image/png": "[encoded data removed]"
          },
          "metadata": {}
        }
      ],
      "execution_count": 65
    },
    {
      "cell_type": "markdown",
      "source": [
        "In this multivariate plot, we explored how booking origin, in-flight meal preference, and booking completion status relate to each other. **Australia has the highest number of bookings, both completed and uncompleted**, and a significant number of passengers from there opt for in-flight meals. **Other countries like Malaysia and Japan also show steady numbers. Interestingly, meal preferences seem fairly consistent across completed and uncompleted bookings**, suggesting that while meals are a valued add-on, they may not significantly influence whether a passenger completes their booking."
      ],
      "metadata": {
        "id": "HzBcGAEm6LOr"
      }
    },
    {
      "cell_type": "markdown",
      "source": [
        "# 📌 Conclusion & Objectives\n",
        "🎯 Objectives of This Notebook\n",
        "The primary goal of this analysis was to:\n",
        "\n",
        "->Understand the behavior of airline passengers based on their booking patterns.\n",
        "\n",
        "->Explore the impact of factors like trip type, sales channel, extra baggage, and meal preferences on booking decisions.\n",
        "\n",
        "->Identify trends and preferences based on country of origin and booking completion status.\n",
        "\n",
        "->Uncover actionable insights that airlines could use to improve customer experience and operational efficiency"
      ],
      "metadata": {
        "id": "-iza5HIO6LOr"
      }
    },
    {
      "cell_type": "markdown",
      "source": [
        "# 🧠 Key Insights\n",
        "->Internet is the most preferred sales channel across all trip types.\n",
        "\n",
        "->Passengers traveling with larger groups (higher number of passengers) are more likely to carry extra baggage.\n",
        "\n",
        "->Round trips are the most common, and also dominate Internet bookings.\n",
        "\n",
        "->Australia had the highest number of bookings and also the highest completion rate.\n",
        "\n",
        "->Meal preferences were more common among passengers who completed their bookings."
      ],
      "metadata": {
        "id": "4HShVdTb6LOr"
      }
    },
    {
      "cell_type": "markdown",
      "source": [
        "# ✅ Conclusion\n",
        "Through univariate, bivariate, and multivariate analysis, we discovered patterns in customer behavior that airlines can leverage to:\n",
        "\n",
        "Improve digital booking platforms **(especially mobile)**.\n",
        "\n",
        "Personalize offers based on baggage needs and trip types.\n",
        "\n",
        "Focus marketing campaigns on countries with high booking completion rates.\n",
        "\n",
        "**This exploratory analysis lays the foundation for predictive modeling or deeper segmentation of customer types in the future.**"
      ],
      "metadata": {
        "id": "IgJQu2IJ6LOr"
      }
    }
  ]
}